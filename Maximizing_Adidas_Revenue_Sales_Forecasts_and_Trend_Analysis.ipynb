{
  "cells": [
    {
      "cell_type": "code",
      "execution_count": 3,
      "metadata": {
        "id": "3BgiCO02VrPS"
      },
      "outputs": [],
      "source": [
        "import pandas as pd\n",
        "import matplotlib.pyplot as plt\n",
        "import plotly.express as px\n",
        "import plotly.graph_objects as go\n",
        "import seaborn as sns\n",
        "from statsmodels.tsa.seasonal import seasonal_decompose\n",
        "from statsmodels.tsa.arima.model import ARIMA\n",
        "import plotly.graph_objs as go"
      ]
    },
    {
      "cell_type": "code",
      "execution_count": 5,
      "metadata": {
        "id": "bouBqCVDVrPT",
        "outputId": "079a1e8d-c9d1-4605-cc25-e67e9727fee2",
        "colab": {
          "base_uri": "https://localhost:8080/",
          "height": 417
        }
      },
      "outputs": [
        {
          "output_type": "execute_result",
          "data": {
            "text/plain": [
              "      Retailer  Retailer ID Invoice Date     Region     State      City  \\\n",
              "0  Foot Locker      1185732   01/01/2020  Northeast  New York  New York   \n",
              "1  Foot Locker      1185732   02/01/2020  Northeast  New York  New York   \n",
              "2  Foot Locker      1185732   03/01/2020  Northeast  New York  New York   \n",
              "3  Foot Locker      1185732   04/01/2020  Northeast  New York  New York   \n",
              "4  Foot Locker      1185732   05/01/2020  Northeast  New York  New York   \n",
              "\n",
              "                     Product Price per Unit Units Sold Total Sales  \\\n",
              "0      Men's Street Footwear        $50.00       1,200   $600,000    \n",
              "1    Men's Athletic Footwear        $50.00       1,000   $500,000    \n",
              "2    Women's Street Footwear        $40.00       1,000   $400,000    \n",
              "3  Women's Athletic Footwear        $45.00         850   $382,500    \n",
              "4              Men's Apparel        $60.00         900   $540,000    \n",
              "\n",
              "  Operating Profit Operating Margin Sales Method  \n",
              "0        $300,000               50%     In-store  \n",
              "1        $150,000               30%     In-store  \n",
              "2        $140,000               35%     In-store  \n",
              "3        $133,875               35%     In-store  \n",
              "4        $162,000               30%     In-store  "
            ],
            "text/html": [
              "\n",
              "  <div id=\"df-b404e3a9-0aec-4af4-a01d-68d21a6e7d78\" class=\"colab-df-container\">\n",
              "    <div>\n",
              "<style scoped>\n",
              "    .dataframe tbody tr th:only-of-type {\n",
              "        vertical-align: middle;\n",
              "    }\n",
              "\n",
              "    .dataframe tbody tr th {\n",
              "        vertical-align: top;\n",
              "    }\n",
              "\n",
              "    .dataframe thead th {\n",
              "        text-align: right;\n",
              "    }\n",
              "</style>\n",
              "<table border=\"1\" class=\"dataframe\">\n",
              "  <thead>\n",
              "    <tr style=\"text-align: right;\">\n",
              "      <th></th>\n",
              "      <th>Retailer</th>\n",
              "      <th>Retailer ID</th>\n",
              "      <th>Invoice Date</th>\n",
              "      <th>Region</th>\n",
              "      <th>State</th>\n",
              "      <th>City</th>\n",
              "      <th>Product</th>\n",
              "      <th>Price per Unit</th>\n",
              "      <th>Units Sold</th>\n",
              "      <th>Total Sales</th>\n",
              "      <th>Operating Profit</th>\n",
              "      <th>Operating Margin</th>\n",
              "      <th>Sales Method</th>\n",
              "    </tr>\n",
              "  </thead>\n",
              "  <tbody>\n",
              "    <tr>\n",
              "      <th>0</th>\n",
              "      <td>Foot Locker</td>\n",
              "      <td>1185732</td>\n",
              "      <td>01/01/2020</td>\n",
              "      <td>Northeast</td>\n",
              "      <td>New York</td>\n",
              "      <td>New York</td>\n",
              "      <td>Men's Street Footwear</td>\n",
              "      <td>$50.00</td>\n",
              "      <td>1,200</td>\n",
              "      <td>$600,000</td>\n",
              "      <td>$300,000</td>\n",
              "      <td>50%</td>\n",
              "      <td>In-store</td>\n",
              "    </tr>\n",
              "    <tr>\n",
              "      <th>1</th>\n",
              "      <td>Foot Locker</td>\n",
              "      <td>1185732</td>\n",
              "      <td>02/01/2020</td>\n",
              "      <td>Northeast</td>\n",
              "      <td>New York</td>\n",
              "      <td>New York</td>\n",
              "      <td>Men's Athletic Footwear</td>\n",
              "      <td>$50.00</td>\n",
              "      <td>1,000</td>\n",
              "      <td>$500,000</td>\n",
              "      <td>$150,000</td>\n",
              "      <td>30%</td>\n",
              "      <td>In-store</td>\n",
              "    </tr>\n",
              "    <tr>\n",
              "      <th>2</th>\n",
              "      <td>Foot Locker</td>\n",
              "      <td>1185732</td>\n",
              "      <td>03/01/2020</td>\n",
              "      <td>Northeast</td>\n",
              "      <td>New York</td>\n",
              "      <td>New York</td>\n",
              "      <td>Women's Street Footwear</td>\n",
              "      <td>$40.00</td>\n",
              "      <td>1,000</td>\n",
              "      <td>$400,000</td>\n",
              "      <td>$140,000</td>\n",
              "      <td>35%</td>\n",
              "      <td>In-store</td>\n",
              "    </tr>\n",
              "    <tr>\n",
              "      <th>3</th>\n",
              "      <td>Foot Locker</td>\n",
              "      <td>1185732</td>\n",
              "      <td>04/01/2020</td>\n",
              "      <td>Northeast</td>\n",
              "      <td>New York</td>\n",
              "      <td>New York</td>\n",
              "      <td>Women's Athletic Footwear</td>\n",
              "      <td>$45.00</td>\n",
              "      <td>850</td>\n",
              "      <td>$382,500</td>\n",
              "      <td>$133,875</td>\n",
              "      <td>35%</td>\n",
              "      <td>In-store</td>\n",
              "    </tr>\n",
              "    <tr>\n",
              "      <th>4</th>\n",
              "      <td>Foot Locker</td>\n",
              "      <td>1185732</td>\n",
              "      <td>05/01/2020</td>\n",
              "      <td>Northeast</td>\n",
              "      <td>New York</td>\n",
              "      <td>New York</td>\n",
              "      <td>Men's Apparel</td>\n",
              "      <td>$60.00</td>\n",
              "      <td>900</td>\n",
              "      <td>$540,000</td>\n",
              "      <td>$162,000</td>\n",
              "      <td>30%</td>\n",
              "      <td>In-store</td>\n",
              "    </tr>\n",
              "  </tbody>\n",
              "</table>\n",
              "</div>\n",
              "    <div class=\"colab-df-buttons\">\n",
              "\n",
              "  <div class=\"colab-df-container\">\n",
              "    <button class=\"colab-df-convert\" onclick=\"convertToInteractive('df-b404e3a9-0aec-4af4-a01d-68d21a6e7d78')\"\n",
              "            title=\"Convert this dataframe to an interactive table.\"\n",
              "            style=\"display:none;\">\n",
              "\n",
              "  <svg xmlns=\"http://www.w3.org/2000/svg\" height=\"24px\" viewBox=\"0 -960 960 960\">\n",
              "    <path d=\"M120-120v-720h720v720H120Zm60-500h600v-160H180v160Zm220 220h160v-160H400v160Zm0 220h160v-160H400v160ZM180-400h160v-160H180v160Zm440 0h160v-160H620v160ZM180-180h160v-160H180v160Zm440 0h160v-160H620v160Z\"/>\n",
              "  </svg>\n",
              "    </button>\n",
              "\n",
              "  <style>\n",
              "    .colab-df-container {\n",
              "      display:flex;\n",
              "      gap: 12px;\n",
              "    }\n",
              "\n",
              "    .colab-df-convert {\n",
              "      background-color: #E8F0FE;\n",
              "      border: none;\n",
              "      border-radius: 50%;\n",
              "      cursor: pointer;\n",
              "      display: none;\n",
              "      fill: #1967D2;\n",
              "      height: 32px;\n",
              "      padding: 0 0 0 0;\n",
              "      width: 32px;\n",
              "    }\n",
              "\n",
              "    .colab-df-convert:hover {\n",
              "      background-color: #E2EBFA;\n",
              "      box-shadow: 0px 1px 2px rgba(60, 64, 67, 0.3), 0px 1px 3px 1px rgba(60, 64, 67, 0.15);\n",
              "      fill: #174EA6;\n",
              "    }\n",
              "\n",
              "    .colab-df-buttons div {\n",
              "      margin-bottom: 4px;\n",
              "    }\n",
              "\n",
              "    [theme=dark] .colab-df-convert {\n",
              "      background-color: #3B4455;\n",
              "      fill: #D2E3FC;\n",
              "    }\n",
              "\n",
              "    [theme=dark] .colab-df-convert:hover {\n",
              "      background-color: #434B5C;\n",
              "      box-shadow: 0px 1px 3px 1px rgba(0, 0, 0, 0.15);\n",
              "      filter: drop-shadow(0px 1px 2px rgba(0, 0, 0, 0.3));\n",
              "      fill: #FFFFFF;\n",
              "    }\n",
              "  </style>\n",
              "\n",
              "    <script>\n",
              "      const buttonEl =\n",
              "        document.querySelector('#df-b404e3a9-0aec-4af4-a01d-68d21a6e7d78 button.colab-df-convert');\n",
              "      buttonEl.style.display =\n",
              "        google.colab.kernel.accessAllowed ? 'block' : 'none';\n",
              "\n",
              "      async function convertToInteractive(key) {\n",
              "        const element = document.querySelector('#df-b404e3a9-0aec-4af4-a01d-68d21a6e7d78');\n",
              "        const dataTable =\n",
              "          await google.colab.kernel.invokeFunction('convertToInteractive',\n",
              "                                                    [key], {});\n",
              "        if (!dataTable) return;\n",
              "\n",
              "        const docLinkHtml = 'Like what you see? Visit the ' +\n",
              "          '<a target=\"_blank\" href=https://colab.research.google.com/notebooks/data_table.ipynb>data table notebook</a>'\n",
              "          + ' to learn more about interactive tables.';\n",
              "        element.innerHTML = '';\n",
              "        dataTable['output_type'] = 'display_data';\n",
              "        await google.colab.output.renderOutput(dataTable, element);\n",
              "        const docLink = document.createElement('div');\n",
              "        docLink.innerHTML = docLinkHtml;\n",
              "        element.appendChild(docLink);\n",
              "      }\n",
              "    </script>\n",
              "  </div>\n",
              "\n",
              "\n",
              "<div id=\"df-b5667adb-d443-4049-945d-1784404994fd\">\n",
              "  <button class=\"colab-df-quickchart\" onclick=\"quickchart('df-b5667adb-d443-4049-945d-1784404994fd')\"\n",
              "            title=\"Suggest charts\"\n",
              "            style=\"display:none;\">\n",
              "\n",
              "<svg xmlns=\"http://www.w3.org/2000/svg\" height=\"24px\"viewBox=\"0 0 24 24\"\n",
              "     width=\"24px\">\n",
              "    <g>\n",
              "        <path d=\"M19 3H5c-1.1 0-2 .9-2 2v14c0 1.1.9 2 2 2h14c1.1 0 2-.9 2-2V5c0-1.1-.9-2-2-2zM9 17H7v-7h2v7zm4 0h-2V7h2v10zm4 0h-2v-4h2v4z\"/>\n",
              "    </g>\n",
              "</svg>\n",
              "  </button>\n",
              "\n",
              "<style>\n",
              "  .colab-df-quickchart {\n",
              "      --bg-color: #E8F0FE;\n",
              "      --fill-color: #1967D2;\n",
              "      --hover-bg-color: #E2EBFA;\n",
              "      --hover-fill-color: #174EA6;\n",
              "      --disabled-fill-color: #AAA;\n",
              "      --disabled-bg-color: #DDD;\n",
              "  }\n",
              "\n",
              "  [theme=dark] .colab-df-quickchart {\n",
              "      --bg-color: #3B4455;\n",
              "      --fill-color: #D2E3FC;\n",
              "      --hover-bg-color: #434B5C;\n",
              "      --hover-fill-color: #FFFFFF;\n",
              "      --disabled-bg-color: #3B4455;\n",
              "      --disabled-fill-color: #666;\n",
              "  }\n",
              "\n",
              "  .colab-df-quickchart {\n",
              "    background-color: var(--bg-color);\n",
              "    border: none;\n",
              "    border-radius: 50%;\n",
              "    cursor: pointer;\n",
              "    display: none;\n",
              "    fill: var(--fill-color);\n",
              "    height: 32px;\n",
              "    padding: 0;\n",
              "    width: 32px;\n",
              "  }\n",
              "\n",
              "  .colab-df-quickchart:hover {\n",
              "    background-color: var(--hover-bg-color);\n",
              "    box-shadow: 0 1px 2px rgba(60, 64, 67, 0.3), 0 1px 3px 1px rgba(60, 64, 67, 0.15);\n",
              "    fill: var(--button-hover-fill-color);\n",
              "  }\n",
              "\n",
              "  .colab-df-quickchart-complete:disabled,\n",
              "  .colab-df-quickchart-complete:disabled:hover {\n",
              "    background-color: var(--disabled-bg-color);\n",
              "    fill: var(--disabled-fill-color);\n",
              "    box-shadow: none;\n",
              "  }\n",
              "\n",
              "  .colab-df-spinner {\n",
              "    border: 2px solid var(--fill-color);\n",
              "    border-color: transparent;\n",
              "    border-bottom-color: var(--fill-color);\n",
              "    animation:\n",
              "      spin 1s steps(1) infinite;\n",
              "  }\n",
              "\n",
              "  @keyframes spin {\n",
              "    0% {\n",
              "      border-color: transparent;\n",
              "      border-bottom-color: var(--fill-color);\n",
              "      border-left-color: var(--fill-color);\n",
              "    }\n",
              "    20% {\n",
              "      border-color: transparent;\n",
              "      border-left-color: var(--fill-color);\n",
              "      border-top-color: var(--fill-color);\n",
              "    }\n",
              "    30% {\n",
              "      border-color: transparent;\n",
              "      border-left-color: var(--fill-color);\n",
              "      border-top-color: var(--fill-color);\n",
              "      border-right-color: var(--fill-color);\n",
              "    }\n",
              "    40% {\n",
              "      border-color: transparent;\n",
              "      border-right-color: var(--fill-color);\n",
              "      border-top-color: var(--fill-color);\n",
              "    }\n",
              "    60% {\n",
              "      border-color: transparent;\n",
              "      border-right-color: var(--fill-color);\n",
              "    }\n",
              "    80% {\n",
              "      border-color: transparent;\n",
              "      border-right-color: var(--fill-color);\n",
              "      border-bottom-color: var(--fill-color);\n",
              "    }\n",
              "    90% {\n",
              "      border-color: transparent;\n",
              "      border-bottom-color: var(--fill-color);\n",
              "    }\n",
              "  }\n",
              "</style>\n",
              "\n",
              "  <script>\n",
              "    async function quickchart(key) {\n",
              "      const quickchartButtonEl =\n",
              "        document.querySelector('#' + key + ' button');\n",
              "      quickchartButtonEl.disabled = true;  // To prevent multiple clicks.\n",
              "      quickchartButtonEl.classList.add('colab-df-spinner');\n",
              "      try {\n",
              "        const charts = await google.colab.kernel.invokeFunction(\n",
              "            'suggestCharts', [key], {});\n",
              "      } catch (error) {\n",
              "        console.error('Error during call to suggestCharts:', error);\n",
              "      }\n",
              "      quickchartButtonEl.classList.remove('colab-df-spinner');\n",
              "      quickchartButtonEl.classList.add('colab-df-quickchart-complete');\n",
              "    }\n",
              "    (() => {\n",
              "      let quickchartButtonEl =\n",
              "        document.querySelector('#df-b5667adb-d443-4049-945d-1784404994fd button');\n",
              "      quickchartButtonEl.style.display =\n",
              "        google.colab.kernel.accessAllowed ? 'block' : 'none';\n",
              "    })();\n",
              "  </script>\n",
              "</div>\n",
              "\n",
              "    </div>\n",
              "  </div>\n"
            ]
          },
          "metadata": {},
          "execution_count": 5
        }
      ],
      "source": [
        "#read head of adidas us datasets csv\n",
        "data = pd.read_csv('/content/Adidas US Sales Datasets.csv')\n",
        "data.head()\n"
      ]
    },
    {
      "cell_type": "markdown",
      "metadata": {
        "id": "yxJhasJhVrPU"
      },
      "source": [
        "## Business problems that can be solved using this dataset:\n",
        "1. Sales Performance Analysis: Which products are excelling in sales, and which are underperforming?\n",
        "2. Regional Market Analysis: Which stores are experiencing strong sales, and which ones are lagging?\n",
        "3. Profit Margin Analysis: Does the profit margin significantly impact sales?\n",
        "4. Efficiency of Sales Methods: Which sales method is more effective - in-store or online?\n",
        "5. Price Optimization: Is there a specific price range that achieves better sales than others?\n",
        "6. Product Portfolio Optimization I: Determine which products are most profitable, segmented by location.\n",
        "7. Market Expansion Opportunities: Assess the best and worst performing stores based on their locations.\n",
        "8. Time Series Analysis: Investigate whether there has been a consistent sales trend over time or any noticeable monthly trends.\n",
        "9. Predictive Sales Analysis: Develop a forecast for monthly sales."
      ]
    },
    {
      "cell_type": "markdown",
      "metadata": {
        "id": "IGCT9WySVrPW"
      },
      "source": [
        "## 0. Performing Exploratory Data Analysis (EDA)"
      ]
    },
    {
      "cell_type": "code",
      "execution_count": null,
      "metadata": {
        "id": "jKJjD2PpVrPX",
        "outputId": "b6d38f7b-4c41-484d-dafe-d5bc14a464b1"
      },
      "outputs": [
        {
          "data": {
            "text/plain": [
              "(9648, 13)"
            ]
          },
          "execution_count": 102,
          "metadata": {},
          "output_type": "execute_result"
        }
      ],
      "source": [
        "# Shape of the dataframe\n",
        "data.shape"
      ]
    },
    {
      "cell_type": "code",
      "execution_count": null,
      "metadata": {
        "id": "C5LnE00lVrPX",
        "outputId": "fe2ee2ff-a975-4740-f868-0726e1adb6c1"
      },
      "outputs": [
        {
          "data": {
            "text/plain": [
              "0"
            ]
          },
          "execution_count": 103,
          "metadata": {},
          "output_type": "execute_result"
        }
      ],
      "source": [
        "# Duplicate Rows\n",
        "data.duplicated().sum()"
      ]
    },
    {
      "cell_type": "code",
      "execution_count": null,
      "metadata": {
        "id": "RsbAekEsVrPY",
        "outputId": "506056fb-3086-4466-f120-f059fa4f5e81"
      },
      "outputs": [
        {
          "name": "stdout",
          "output_type": "stream",
          "text": [
            "<class 'pandas.core.frame.DataFrame'>\n",
            "RangeIndex: 9648 entries, 0 to 9647\n",
            "Data columns (total 13 columns):\n",
            " #   Column            Non-Null Count  Dtype         \n",
            "---  ------            --------------  -----         \n",
            " 0   Retailer          9648 non-null   object        \n",
            " 1   Retailer ID       9648 non-null   int64         \n",
            " 2   Invoice Date      9648 non-null   datetime64[ns]\n",
            " 3   Region            9648 non-null   object        \n",
            " 4   State             9648 non-null   object        \n",
            " 5   City              9648 non-null   object        \n",
            " 6   Product           9648 non-null   object        \n",
            " 7   Price per Unit    9648 non-null   float64       \n",
            " 8   Units Sold        9648 non-null   int64         \n",
            " 9   Total Sales       9648 non-null   float64       \n",
            " 10  Operating Profit  9648 non-null   float64       \n",
            " 11  Operating Margin  9648 non-null   float64       \n",
            " 12  Sales Method      9648 non-null   object        \n",
            "dtypes: datetime64[ns](1), float64(4), int64(2), object(6)\n",
            "memory usage: 980.0+ KB\n"
          ]
        }
      ],
      "source": [
        "# Info of the dataset\n",
        "data.info()"
      ]
    },
    {
      "cell_type": "code",
      "execution_count": null,
      "metadata": {
        "id": "6mm8ybgJVrPY",
        "outputId": "e33db75e-8b00-4822-bc2d-aa8c1978f939"
      },
      "outputs": [
        {
          "data": {
            "text/plain": [
              "Retailer            0\n",
              "Retailer ID         0\n",
              "Invoice Date        0\n",
              "Region              0\n",
              "State               0\n",
              "City                0\n",
              "Product             0\n",
              "Price per Unit      0\n",
              "Units Sold          0\n",
              "Total Sales         0\n",
              "Operating Profit    0\n",
              "Operating Margin    0\n",
              "Sales Method        0\n",
              "dtype: int64"
            ]
          },
          "execution_count": 105,
          "metadata": {},
          "output_type": "execute_result"
        }
      ],
      "source": [
        "# Null values\n",
        "data.isnull().sum()"
      ]
    },
    {
      "cell_type": "code",
      "execution_count": null,
      "metadata": {
        "id": "obrEElwjVrPZ",
        "outputId": "925dfe7c-65c4-40f7-8add-4c4907a9d11f"
      },
      "outputs": [
        {
          "data": {
            "text/html": [
              "<div>\n",
              "<style scoped>\n",
              "    .dataframe tbody tr th:only-of-type {\n",
              "        vertical-align: middle;\n",
              "    }\n",
              "\n",
              "    .dataframe tbody tr th {\n",
              "        vertical-align: top;\n",
              "    }\n",
              "\n",
              "    .dataframe thead th {\n",
              "        text-align: right;\n",
              "    }\n",
              "</style>\n",
              "<table border=\"1\" class=\"dataframe\">\n",
              "  <thead>\n",
              "    <tr style=\"text-align: right;\">\n",
              "      <th></th>\n",
              "      <th>Retailer</th>\n",
              "      <th>Retailer ID</th>\n",
              "      <th>Invoice Date</th>\n",
              "      <th>Region</th>\n",
              "      <th>State</th>\n",
              "      <th>City</th>\n",
              "      <th>Product</th>\n",
              "      <th>Price per Unit</th>\n",
              "      <th>Units Sold</th>\n",
              "      <th>Total Sales</th>\n",
              "      <th>Operating Profit</th>\n",
              "      <th>Operating Margin</th>\n",
              "      <th>Sales Method</th>\n",
              "    </tr>\n",
              "  </thead>\n",
              "  <tbody>\n",
              "    <tr>\n",
              "      <th>0</th>\n",
              "      <td>Foot Locker</td>\n",
              "      <td>1185732</td>\n",
              "      <td>2020-01-01</td>\n",
              "      <td>Northeast</td>\n",
              "      <td>New York</td>\n",
              "      <td>New York</td>\n",
              "      <td>Men's Street Footwear</td>\n",
              "      <td>50.0</td>\n",
              "      <td>1200</td>\n",
              "      <td>600000.0</td>\n",
              "      <td>300000.0</td>\n",
              "      <td>0.50</td>\n",
              "      <td>In-store</td>\n",
              "    </tr>\n",
              "    <tr>\n",
              "      <th>1</th>\n",
              "      <td>Foot Locker</td>\n",
              "      <td>1185732</td>\n",
              "      <td>2020-01-02</td>\n",
              "      <td>Northeast</td>\n",
              "      <td>New York</td>\n",
              "      <td>New York</td>\n",
              "      <td>Men's Athletic Footwear</td>\n",
              "      <td>50.0</td>\n",
              "      <td>1000</td>\n",
              "      <td>500000.0</td>\n",
              "      <td>150000.0</td>\n",
              "      <td>0.30</td>\n",
              "      <td>In-store</td>\n",
              "    </tr>\n",
              "    <tr>\n",
              "      <th>2</th>\n",
              "      <td>Foot Locker</td>\n",
              "      <td>1185732</td>\n",
              "      <td>2020-01-03</td>\n",
              "      <td>Northeast</td>\n",
              "      <td>New York</td>\n",
              "      <td>New York</td>\n",
              "      <td>Women's Street Footwear</td>\n",
              "      <td>40.0</td>\n",
              "      <td>1000</td>\n",
              "      <td>400000.0</td>\n",
              "      <td>140000.0</td>\n",
              "      <td>0.35</td>\n",
              "      <td>In-store</td>\n",
              "    </tr>\n",
              "    <tr>\n",
              "      <th>3</th>\n",
              "      <td>Foot Locker</td>\n",
              "      <td>1185732</td>\n",
              "      <td>2020-01-04</td>\n",
              "      <td>Northeast</td>\n",
              "      <td>New York</td>\n",
              "      <td>New York</td>\n",
              "      <td>Women's Athletic Footwear</td>\n",
              "      <td>45.0</td>\n",
              "      <td>850</td>\n",
              "      <td>382500.0</td>\n",
              "      <td>133875.0</td>\n",
              "      <td>0.35</td>\n",
              "      <td>In-store</td>\n",
              "    </tr>\n",
              "    <tr>\n",
              "      <th>4</th>\n",
              "      <td>Foot Locker</td>\n",
              "      <td>1185732</td>\n",
              "      <td>2020-01-05</td>\n",
              "      <td>Northeast</td>\n",
              "      <td>New York</td>\n",
              "      <td>New York</td>\n",
              "      <td>Men's Apparel</td>\n",
              "      <td>60.0</td>\n",
              "      <td>900</td>\n",
              "      <td>540000.0</td>\n",
              "      <td>162000.0</td>\n",
              "      <td>0.30</td>\n",
              "      <td>In-store</td>\n",
              "    </tr>\n",
              "  </tbody>\n",
              "</table>\n",
              "</div>"
            ],
            "text/plain": [
              "      Retailer  Retailer ID Invoice Date     Region     State      City  \\\n",
              "0  Foot Locker      1185732   2020-01-01  Northeast  New York  New York   \n",
              "1  Foot Locker      1185732   2020-01-02  Northeast  New York  New York   \n",
              "2  Foot Locker      1185732   2020-01-03  Northeast  New York  New York   \n",
              "3  Foot Locker      1185732   2020-01-04  Northeast  New York  New York   \n",
              "4  Foot Locker      1185732   2020-01-05  Northeast  New York  New York   \n",
              "\n",
              "                     Product  Price per Unit  Units Sold  Total Sales  \\\n",
              "0      Men's Street Footwear            50.0        1200     600000.0   \n",
              "1    Men's Athletic Footwear            50.0        1000     500000.0   \n",
              "2    Women's Street Footwear            40.0        1000     400000.0   \n",
              "3  Women's Athletic Footwear            45.0         850     382500.0   \n",
              "4              Men's Apparel            60.0         900     540000.0   \n",
              "\n",
              "   Operating Profit  Operating Margin Sales Method  \n",
              "0          300000.0              0.50     In-store  \n",
              "1          150000.0              0.30     In-store  \n",
              "2          140000.0              0.35     In-store  \n",
              "3          133875.0              0.35     In-store  \n",
              "4          162000.0              0.30     In-store  "
            ]
          },
          "execution_count": 106,
          "metadata": {},
          "output_type": "execute_result"
        }
      ],
      "source": [
        "# Overview of the data head\n",
        "data.head()"
      ]
    },
    {
      "cell_type": "code",
      "execution_count": null,
      "metadata": {
        "id": "DEqjruPWVrPZ",
        "outputId": "7bcf4fa6-b4b3-4a5f-a958-c8a80de36519"
      },
      "outputs": [
        {
          "data": {
            "text/html": [
              "<div>\n",
              "<style scoped>\n",
              "    .dataframe tbody tr th:only-of-type {\n",
              "        vertical-align: middle;\n",
              "    }\n",
              "\n",
              "    .dataframe tbody tr th {\n",
              "        vertical-align: top;\n",
              "    }\n",
              "\n",
              "    .dataframe thead th {\n",
              "        text-align: right;\n",
              "    }\n",
              "</style>\n",
              "<table border=\"1\" class=\"dataframe\">\n",
              "  <thead>\n",
              "    <tr style=\"text-align: right;\">\n",
              "      <th></th>\n",
              "      <th>Retailer</th>\n",
              "      <th>Retailer ID</th>\n",
              "      <th>Invoice Date</th>\n",
              "      <th>Region</th>\n",
              "      <th>State</th>\n",
              "      <th>City</th>\n",
              "      <th>Product</th>\n",
              "      <th>Price per Unit</th>\n",
              "      <th>Units Sold</th>\n",
              "      <th>Total Sales</th>\n",
              "      <th>Operating Profit</th>\n",
              "      <th>Operating Margin</th>\n",
              "      <th>Sales Method</th>\n",
              "    </tr>\n",
              "  </thead>\n",
              "  <tbody>\n",
              "    <tr>\n",
              "      <th>9643</th>\n",
              "      <td>Foot Locker</td>\n",
              "      <td>1185732</td>\n",
              "      <td>2021-01-24</td>\n",
              "      <td>Northeast</td>\n",
              "      <td>New Hampshire</td>\n",
              "      <td>Manchester</td>\n",
              "      <td>Men's Apparel</td>\n",
              "      <td>50.0</td>\n",
              "      <td>64</td>\n",
              "      <td>3200.0</td>\n",
              "      <td>896.00</td>\n",
              "      <td>0.28</td>\n",
              "      <td>Outlet</td>\n",
              "    </tr>\n",
              "    <tr>\n",
              "      <th>9644</th>\n",
              "      <td>Foot Locker</td>\n",
              "      <td>1185732</td>\n",
              "      <td>2021-01-24</td>\n",
              "      <td>Northeast</td>\n",
              "      <td>New Hampshire</td>\n",
              "      <td>Manchester</td>\n",
              "      <td>Women's Apparel</td>\n",
              "      <td>41.0</td>\n",
              "      <td>105</td>\n",
              "      <td>4305.0</td>\n",
              "      <td>1377.60</td>\n",
              "      <td>0.32</td>\n",
              "      <td>Outlet</td>\n",
              "    </tr>\n",
              "    <tr>\n",
              "      <th>9645</th>\n",
              "      <td>Foot Locker</td>\n",
              "      <td>1185732</td>\n",
              "      <td>2021-02-22</td>\n",
              "      <td>Northeast</td>\n",
              "      <td>New Hampshire</td>\n",
              "      <td>Manchester</td>\n",
              "      <td>Men's Street Footwear</td>\n",
              "      <td>41.0</td>\n",
              "      <td>184</td>\n",
              "      <td>7544.0</td>\n",
              "      <td>2791.28</td>\n",
              "      <td>0.37</td>\n",
              "      <td>Outlet</td>\n",
              "    </tr>\n",
              "    <tr>\n",
              "      <th>9646</th>\n",
              "      <td>Foot Locker</td>\n",
              "      <td>1185732</td>\n",
              "      <td>2021-02-22</td>\n",
              "      <td>Northeast</td>\n",
              "      <td>New Hampshire</td>\n",
              "      <td>Manchester</td>\n",
              "      <td>Men's Athletic Footwear</td>\n",
              "      <td>42.0</td>\n",
              "      <td>70</td>\n",
              "      <td>2940.0</td>\n",
              "      <td>1234.80</td>\n",
              "      <td>0.42</td>\n",
              "      <td>Outlet</td>\n",
              "    </tr>\n",
              "    <tr>\n",
              "      <th>9647</th>\n",
              "      <td>Foot Locker</td>\n",
              "      <td>1185732</td>\n",
              "      <td>2021-02-22</td>\n",
              "      <td>Northeast</td>\n",
              "      <td>New Hampshire</td>\n",
              "      <td>Manchester</td>\n",
              "      <td>Women's Street Footwear</td>\n",
              "      <td>29.0</td>\n",
              "      <td>83</td>\n",
              "      <td>2407.0</td>\n",
              "      <td>649.89</td>\n",
              "      <td>0.27</td>\n",
              "      <td>Outlet</td>\n",
              "    </tr>\n",
              "  </tbody>\n",
              "</table>\n",
              "</div>"
            ],
            "text/plain": [
              "         Retailer  Retailer ID Invoice Date     Region          State  \\\n",
              "9643  Foot Locker      1185732   2021-01-24  Northeast  New Hampshire   \n",
              "9644  Foot Locker      1185732   2021-01-24  Northeast  New Hampshire   \n",
              "9645  Foot Locker      1185732   2021-02-22  Northeast  New Hampshire   \n",
              "9646  Foot Locker      1185732   2021-02-22  Northeast  New Hampshire   \n",
              "9647  Foot Locker      1185732   2021-02-22  Northeast  New Hampshire   \n",
              "\n",
              "            City                  Product  Price per Unit  Units Sold  \\\n",
              "9643  Manchester            Men's Apparel            50.0          64   \n",
              "9644  Manchester          Women's Apparel            41.0         105   \n",
              "9645  Manchester    Men's Street Footwear            41.0         184   \n",
              "9646  Manchester  Men's Athletic Footwear            42.0          70   \n",
              "9647  Manchester  Women's Street Footwear            29.0          83   \n",
              "\n",
              "      Total Sales  Operating Profit  Operating Margin Sales Method  \n",
              "9643       3200.0            896.00              0.28       Outlet  \n",
              "9644       4305.0           1377.60              0.32       Outlet  \n",
              "9645       7544.0           2791.28              0.37       Outlet  \n",
              "9646       2940.0           1234.80              0.42       Outlet  \n",
              "9647       2407.0            649.89              0.27       Outlet  "
            ]
          },
          "execution_count": 107,
          "metadata": {},
          "output_type": "execute_result"
        }
      ],
      "source": [
        "# Overview of the data tail\n",
        "data.tail()"
      ]
    },
    {
      "cell_type": "code",
      "execution_count": null,
      "metadata": {
        "id": "4X8iH5JCVrPZ"
      },
      "outputs": [],
      "source": [
        "# # Remove non-numeric characters from the columns\n",
        "data['Total Sales'] = data['Total Sales'].astype(str).str.replace(r'[$, ]', '', regex=True).astype(float)\n",
        "data['Units Sold'] = data['Units Sold'].astype(str).str.replace(r'[$, ]', '', regex=True).astype(float)\n",
        "data['Operating Profit'] = data['Operating Profit'].astype(str).str.replace(r'[$, ]', '', regex=True).astype(float)\n",
        "data['Operating Margin'] = data['Operating Margin'].astype(str).str.replace(r'[$, ]', '', regex=True).astype(float)\n"
      ]
    },
    {
      "cell_type": "code",
      "execution_count": null,
      "metadata": {
        "id": "JT0hKESfVrPa"
      },
      "outputs": [],
      "source": [
        "# Convert Invoice Date to DateTime Object.\n",
        "data['Invoice Date'] = pd.to_datetime(data['Invoice Date'])"
      ]
    },
    {
      "cell_type": "markdown",
      "metadata": {
        "id": "jS5os-nYVrPa"
      },
      "source": [
        "## 1. Sales Performance Analysis: Which products are excelling in sales, and which are underperforming?"
      ]
    },
    {
      "cell_type": "code",
      "execution_count": null,
      "metadata": {
        "id": "NPj4_v1KVrPa",
        "outputId": "b650616f-b198-49a1-bb44-efdb820372bb"
      },
      "outputs": [
        {
          "data": {
            "text/plain": [
              "899902125.0"
            ]
          },
          "execution_count": 110,
          "metadata": {},
          "output_type": "execute_result"
        }
      ],
      "source": [
        "# First lets find out the total revenue\n",
        "total_revenue = data['Total Sales'].sum()\n",
        "total_revenue"
      ]
    },
    {
      "cell_type": "code",
      "execution_count": null,
      "metadata": {
        "id": "MSJKcWTJVrPa",
        "outputId": "a5f8532a-019a-4528-ab06-64e01d9f884b"
      },
      "outputs": [
        {
          "name": "stdout",
          "output_type": "stream",
          "text": [
            "Top-Performing Products:\n"
          ]
        },
        {
          "data": {
            "text/html": [
              "<div>\n",
              "<style scoped>\n",
              "    .dataframe tbody tr th:only-of-type {\n",
              "        vertical-align: middle;\n",
              "    }\n",
              "\n",
              "    .dataframe tbody tr th {\n",
              "        vertical-align: top;\n",
              "    }\n",
              "\n",
              "    .dataframe thead th {\n",
              "        text-align: right;\n",
              "    }\n",
              "</style>\n",
              "<table border=\"1\" class=\"dataframe\">\n",
              "  <thead>\n",
              "    <tr style=\"text-align: right;\">\n",
              "      <th></th>\n",
              "      <th>Product</th>\n",
              "      <th>Total Sales</th>\n",
              "      <th>Units Sold</th>\n",
              "    </tr>\n",
              "  </thead>\n",
              "  <tbody>\n",
              "    <tr>\n",
              "      <th>2</th>\n",
              "      <td>Men's Street Footwear</td>\n",
              "      <td>208826244.0</td>\n",
              "      <td>593320.0</td>\n",
              "    </tr>\n",
              "    <tr>\n",
              "      <th>3</th>\n",
              "      <td>Women's Apparel</td>\n",
              "      <td>179038860.0</td>\n",
              "      <td>433827.0</td>\n",
              "    </tr>\n",
              "    <tr>\n",
              "      <th>1</th>\n",
              "      <td>Men's Athletic Footwear</td>\n",
              "      <td>153673680.0</td>\n",
              "      <td>435526.0</td>\n",
              "    </tr>\n",
              "    <tr>\n",
              "      <th>5</th>\n",
              "      <td>Women's Street Footwear</td>\n",
              "      <td>128002813.0</td>\n",
              "      <td>392269.0</td>\n",
              "    </tr>\n",
              "    <tr>\n",
              "      <th>0</th>\n",
              "      <td>Men's Apparel</td>\n",
              "      <td>123728632.0</td>\n",
              "      <td>306683.0</td>\n",
              "    </tr>\n",
              "  </tbody>\n",
              "</table>\n",
              "</div>"
            ],
            "text/plain": [
              "                   Product  Total Sales  Units Sold\n",
              "2    Men's Street Footwear  208826244.0    593320.0\n",
              "3          Women's Apparel  179038860.0    433827.0\n",
              "1  Men's Athletic Footwear  153673680.0    435526.0\n",
              "5  Women's Street Footwear  128002813.0    392269.0\n",
              "0            Men's Apparel  123728632.0    306683.0"
            ]
          },
          "execution_count": 111,
          "metadata": {},
          "output_type": "execute_result"
        }
      ],
      "source": [
        "# Aggregating total sales and units sold for each product\n",
        "product_sales = data.groupby('Product').agg({'Total Sales': 'sum', 'Units Sold': 'sum'}).reset_index()\n",
        "\n",
        "# Sorting products by total sales in descending order to identify top-performing products\n",
        "top_performing_products = product_sales.sort_values(by='Total Sales', ascending=False).head()\n",
        "\n",
        "# Displaying the results\n",
        "print(\"Top-Performing Products:\")\n",
        "top_performing_products"
      ]
    },
    {
      "cell_type": "code",
      "execution_count": null,
      "metadata": {
        "id": "eIzM58UvVrPa",
        "outputId": "0e5089f4-20cb-4c54-e8e6-a8ab848ee067"
      },
      "outputs": [
        {
          "name": "stdout",
          "output_type": "stream",
          "text": [
            "\n",
            "Underperforming Products:\n"
          ]
        },
        {
          "data": {
            "text/html": [
              "<div>\n",
              "<style scoped>\n",
              "    .dataframe tbody tr th:only-of-type {\n",
              "        vertical-align: middle;\n",
              "    }\n",
              "\n",
              "    .dataframe tbody tr th {\n",
              "        vertical-align: top;\n",
              "    }\n",
              "\n",
              "    .dataframe thead th {\n",
              "        text-align: right;\n",
              "    }\n",
              "</style>\n",
              "<table border=\"1\" class=\"dataframe\">\n",
              "  <thead>\n",
              "    <tr style=\"text-align: right;\">\n",
              "      <th></th>\n",
              "      <th>Product</th>\n",
              "      <th>Total Sales</th>\n",
              "      <th>Units Sold</th>\n",
              "    </tr>\n",
              "  </thead>\n",
              "  <tbody>\n",
              "    <tr>\n",
              "      <th>4</th>\n",
              "      <td>Women's Athletic Footwear</td>\n",
              "      <td>106631896.0</td>\n",
              "      <td>317236.0</td>\n",
              "    </tr>\n",
              "    <tr>\n",
              "      <th>0</th>\n",
              "      <td>Men's Apparel</td>\n",
              "      <td>123728632.0</td>\n",
              "      <td>306683.0</td>\n",
              "    </tr>\n",
              "    <tr>\n",
              "      <th>5</th>\n",
              "      <td>Women's Street Footwear</td>\n",
              "      <td>128002813.0</td>\n",
              "      <td>392269.0</td>\n",
              "    </tr>\n",
              "    <tr>\n",
              "      <th>1</th>\n",
              "      <td>Men's Athletic Footwear</td>\n",
              "      <td>153673680.0</td>\n",
              "      <td>435526.0</td>\n",
              "    </tr>\n",
              "    <tr>\n",
              "      <th>3</th>\n",
              "      <td>Women's Apparel</td>\n",
              "      <td>179038860.0</td>\n",
              "      <td>433827.0</td>\n",
              "    </tr>\n",
              "  </tbody>\n",
              "</table>\n",
              "</div>"
            ],
            "text/plain": [
              "                     Product  Total Sales  Units Sold\n",
              "4  Women's Athletic Footwear  106631896.0    317236.0\n",
              "0              Men's Apparel  123728632.0    306683.0\n",
              "5    Women's Street Footwear  128002813.0    392269.0\n",
              "1    Men's Athletic Footwear  153673680.0    435526.0\n",
              "3            Women's Apparel  179038860.0    433827.0"
            ]
          },
          "execution_count": 112,
          "metadata": {},
          "output_type": "execute_result"
        }
      ],
      "source": [
        "# Sorting products by total sales in ascending order to identify underperforming products\n",
        "underperforming_products = product_sales.sort_values(by='Total Sales', ascending=True).head()\n",
        "\n",
        "print(\"\\nUnderperforming Products:\")\n",
        "underperforming_products"
      ]
    },
    {
      "cell_type": "markdown",
      "metadata": {
        "id": "5ONMVVg4VrPb"
      },
      "source": [
        "Insights: Men's Street Footware are the highest sold products with sales of $208,826,244 and the most underperforming product is Women's Athletic Footwear with sales of $106,631,896"
      ]
    },
    {
      "cell_type": "markdown",
      "metadata": {
        "id": "pAzq5KYaVrPb"
      },
      "source": [
        "## 2. Regional Market Analysis: Which stores are experiencing strong sales, and which ones are lagging?"
      ]
    },
    {
      "cell_type": "code",
      "execution_count": null,
      "metadata": {
        "id": "V0tfcG0TVrPb",
        "outputId": "751b38c8-3604-41b9-9a82-b89dd1dd17f3"
      },
      "outputs": [
        {
          "data": {
            "text/html": [
              "<div>\n",
              "<style scoped>\n",
              "    .dataframe tbody tr th:only-of-type {\n",
              "        vertical-align: middle;\n",
              "    }\n",
              "\n",
              "    .dataframe tbody tr th {\n",
              "        vertical-align: top;\n",
              "    }\n",
              "\n",
              "    .dataframe thead th {\n",
              "        text-align: right;\n",
              "    }\n",
              "</style>\n",
              "<table border=\"1\" class=\"dataframe\">\n",
              "  <thead>\n",
              "    <tr style=\"text-align: right;\">\n",
              "      <th></th>\n",
              "      <th>Retailer</th>\n",
              "      <th>Retailer ID</th>\n",
              "      <th>Invoice Date</th>\n",
              "      <th>Region</th>\n",
              "      <th>State</th>\n",
              "      <th>City</th>\n",
              "      <th>Product</th>\n",
              "      <th>Price per Unit</th>\n",
              "      <th>Units Sold</th>\n",
              "      <th>Total Sales</th>\n",
              "      <th>Operating Profit</th>\n",
              "      <th>Operating Margin</th>\n",
              "      <th>Sales Method</th>\n",
              "    </tr>\n",
              "  </thead>\n",
              "  <tbody>\n",
              "    <tr>\n",
              "      <th>0</th>\n",
              "      <td>Foot Locker</td>\n",
              "      <td>1185732</td>\n",
              "      <td>2020-01-01</td>\n",
              "      <td>Northeast</td>\n",
              "      <td>New York</td>\n",
              "      <td>New York</td>\n",
              "      <td>Men's Street Footwear</td>\n",
              "      <td>50.0</td>\n",
              "      <td>1200.0</td>\n",
              "      <td>600000.0</td>\n",
              "      <td>300000.0</td>\n",
              "      <td>0.50</td>\n",
              "      <td>In-store</td>\n",
              "    </tr>\n",
              "    <tr>\n",
              "      <th>1</th>\n",
              "      <td>Foot Locker</td>\n",
              "      <td>1185732</td>\n",
              "      <td>2020-01-02</td>\n",
              "      <td>Northeast</td>\n",
              "      <td>New York</td>\n",
              "      <td>New York</td>\n",
              "      <td>Men's Athletic Footwear</td>\n",
              "      <td>50.0</td>\n",
              "      <td>1000.0</td>\n",
              "      <td>500000.0</td>\n",
              "      <td>150000.0</td>\n",
              "      <td>0.30</td>\n",
              "      <td>In-store</td>\n",
              "    </tr>\n",
              "    <tr>\n",
              "      <th>2</th>\n",
              "      <td>Foot Locker</td>\n",
              "      <td>1185732</td>\n",
              "      <td>2020-01-03</td>\n",
              "      <td>Northeast</td>\n",
              "      <td>New York</td>\n",
              "      <td>New York</td>\n",
              "      <td>Women's Street Footwear</td>\n",
              "      <td>40.0</td>\n",
              "      <td>1000.0</td>\n",
              "      <td>400000.0</td>\n",
              "      <td>140000.0</td>\n",
              "      <td>0.35</td>\n",
              "      <td>In-store</td>\n",
              "    </tr>\n",
              "    <tr>\n",
              "      <th>3</th>\n",
              "      <td>Foot Locker</td>\n",
              "      <td>1185732</td>\n",
              "      <td>2020-01-04</td>\n",
              "      <td>Northeast</td>\n",
              "      <td>New York</td>\n",
              "      <td>New York</td>\n",
              "      <td>Women's Athletic Footwear</td>\n",
              "      <td>45.0</td>\n",
              "      <td>850.0</td>\n",
              "      <td>382500.0</td>\n",
              "      <td>133875.0</td>\n",
              "      <td>0.35</td>\n",
              "      <td>In-store</td>\n",
              "    </tr>\n",
              "    <tr>\n",
              "      <th>4</th>\n",
              "      <td>Foot Locker</td>\n",
              "      <td>1185732</td>\n",
              "      <td>2020-01-05</td>\n",
              "      <td>Northeast</td>\n",
              "      <td>New York</td>\n",
              "      <td>New York</td>\n",
              "      <td>Men's Apparel</td>\n",
              "      <td>60.0</td>\n",
              "      <td>900.0</td>\n",
              "      <td>540000.0</td>\n",
              "      <td>162000.0</td>\n",
              "      <td>0.30</td>\n",
              "      <td>In-store</td>\n",
              "    </tr>\n",
              "  </tbody>\n",
              "</table>\n",
              "</div>"
            ],
            "text/plain": [
              "      Retailer  Retailer ID Invoice Date     Region     State      City  \\\n",
              "0  Foot Locker      1185732   2020-01-01  Northeast  New York  New York   \n",
              "1  Foot Locker      1185732   2020-01-02  Northeast  New York  New York   \n",
              "2  Foot Locker      1185732   2020-01-03  Northeast  New York  New York   \n",
              "3  Foot Locker      1185732   2020-01-04  Northeast  New York  New York   \n",
              "4  Foot Locker      1185732   2020-01-05  Northeast  New York  New York   \n",
              "\n",
              "                     Product  Price per Unit  Units Sold  Total Sales  \\\n",
              "0      Men's Street Footwear            50.0      1200.0     600000.0   \n",
              "1    Men's Athletic Footwear            50.0      1000.0     500000.0   \n",
              "2    Women's Street Footwear            40.0      1000.0     400000.0   \n",
              "3  Women's Athletic Footwear            45.0       850.0     382500.0   \n",
              "4              Men's Apparel            60.0       900.0     540000.0   \n",
              "\n",
              "   Operating Profit  Operating Margin Sales Method  \n",
              "0          300000.0              0.50     In-store  \n",
              "1          150000.0              0.30     In-store  \n",
              "2          140000.0              0.35     In-store  \n",
              "3          133875.0              0.35     In-store  \n",
              "4          162000.0              0.30     In-store  "
            ]
          },
          "execution_count": 113,
          "metadata": {},
          "output_type": "execute_result"
        }
      ],
      "source": [
        "data.head()"
      ]
    },
    {
      "cell_type": "code",
      "execution_count": null,
      "metadata": {
        "id": "dLysSSdHVrPb"
      },
      "outputs": [],
      "source": [
        "# For this analysis, I will find out the best and the worst performing store in each city mentioned. First I will find out how many cities and in those cities how many store exist.\n",
        "# To predict the output, - If there are X cities then the number of stores we want in out output are X times 2 -> 2X"
      ]
    },
    {
      "cell_type": "code",
      "execution_count": null,
      "metadata": {
        "id": "SLV9iZRWVrPb",
        "outputId": "a6ccb718-c835-4607-937c-b82b53559759"
      },
      "outputs": [
        {
          "name": "stdout",
          "output_type": "stream",
          "text": [
            "Unique cities: <bound method Series.unique of 0         New York\n",
            "1         New York\n",
            "2         New York\n",
            "3         New York\n",
            "4         New York\n",
            "           ...    \n",
            "9643    Manchester\n",
            "9644    Manchester\n",
            "9645    Manchester\n",
            "9646    Manchester\n",
            "9647    Manchester\n",
            "Name: City, Length: 9648, dtype: object>\n",
            "Number of unique cities: 52\n"
          ]
        }
      ],
      "source": [
        "# Unique Cities\n",
        "unique_cities = data['City'].unique\n",
        "print(f'Unique cities:', unique_cities)\n",
        "\n",
        "# Lets find out the number of unique cities\n",
        "num_unique_cities = data['City'].nunique()\n",
        "print(f'Number of unique cities:', num_unique_cities)"
      ]
    },
    {
      "cell_type": "code",
      "execution_count": null,
      "metadata": {
        "id": "eANqEvg5VrPb"
      },
      "outputs": [],
      "source": [
        "# Group by 'City' and 'Retailer', and sum the 'Units Sold'\n",
        "three_columns_grouped = data.groupby(['City', 'Retailer'])['Units Sold'].sum().reset_index()\n",
        "\n",
        "# Sorting the results within each city to find the top and worst performing retailers\n",
        "three_columns_sorted = three_columns_grouped.sort_values(by=['City', 'Units Sold'], ascending=[True, False])\n",
        "\n",
        "# Getting the top performing retailer in each city\n",
        "top_performers = three_columns_sorted.groupby('City').head(1)\n",
        "\n",
        "# Getting the worst performing retailer in each city\n",
        "worst_performers = three_columns_sorted.groupby('City').tail(1)"
      ]
    },
    {
      "cell_type": "code",
      "execution_count": null,
      "metadata": {
        "id": "fpwNKRwzVrPb",
        "outputId": "8fecd721-9693-4965-9fea-c65e53dfe8b2"
      },
      "outputs": [
        {
          "name": "stdout",
          "output_type": "stream",
          "text": [
            "Top Performing Retailers in Each City:\n"
          ]
        },
        {
          "data": {
            "text/html": [
              "<div>\n",
              "<style scoped>\n",
              "    .dataframe tbody tr th:only-of-type {\n",
              "        vertical-align: middle;\n",
              "    }\n",
              "\n",
              "    .dataframe tbody tr th {\n",
              "        vertical-align: top;\n",
              "    }\n",
              "\n",
              "    .dataframe thead th {\n",
              "        text-align: right;\n",
              "    }\n",
              "</style>\n",
              "<table border=\"1\" class=\"dataframe\">\n",
              "  <thead>\n",
              "    <tr style=\"text-align: right;\">\n",
              "      <th></th>\n",
              "      <th>City</th>\n",
              "      <th>Retailer</th>\n",
              "      <th>Units Sold</th>\n",
              "    </tr>\n",
              "  </thead>\n",
              "  <tbody>\n",
              "    <tr>\n",
              "      <th>1</th>\n",
              "      <td>Albany</td>\n",
              "      <td>West Gear</td>\n",
              "      <td>47133.0</td>\n",
              "    </tr>\n",
              "    <tr>\n",
              "      <th>2</th>\n",
              "      <td>Albuquerque</td>\n",
              "      <td>Kohl's</td>\n",
              "      <td>43752.0</td>\n",
              "    </tr>\n",
              "    <tr>\n",
              "      <th>4</th>\n",
              "      <td>Anchorage</td>\n",
              "      <td>Amazon</td>\n",
              "      <td>26749.0</td>\n",
              "    </tr>\n",
              "    <tr>\n",
              "      <th>7</th>\n",
              "      <td>Atlanta</td>\n",
              "      <td>Sports Direct</td>\n",
              "      <td>41414.0</td>\n",
              "    </tr>\n",
              "    <tr>\n",
              "      <th>8</th>\n",
              "      <td>Baltimore</td>\n",
              "      <td>Foot Locker</td>\n",
              "      <td>9322.0</td>\n",
              "    </tr>\n",
              "  </tbody>\n",
              "</table>\n",
              "</div>"
            ],
            "text/plain": [
              "          City       Retailer  Units Sold\n",
              "1       Albany      West Gear     47133.0\n",
              "2  Albuquerque         Kohl's     43752.0\n",
              "4    Anchorage         Amazon     26749.0\n",
              "7      Atlanta  Sports Direct     41414.0\n",
              "8    Baltimore    Foot Locker      9322.0"
            ]
          },
          "execution_count": 117,
          "metadata": {},
          "output_type": "execute_result"
        }
      ],
      "source": [
        "# Display the results\n",
        "print(\"Top Performing Retailers in Each City:\")\n",
        "top_performers.head()\n"
      ]
    },
    {
      "cell_type": "code",
      "execution_count": null,
      "metadata": {
        "id": "gmONCdQ9VrPc",
        "outputId": "2cbcbd7e-86e6-4c8a-fa4d-2583bf2be7ab"
      },
      "outputs": [
        {
          "name": "stdout",
          "output_type": "stream",
          "text": [
            "\n",
            "Worst Performing Retailers in Each City:\n"
          ]
        },
        {
          "data": {
            "text/html": [
              "<div>\n",
              "<style scoped>\n",
              "    .dataframe tbody tr th:only-of-type {\n",
              "        vertical-align: middle;\n",
              "    }\n",
              "\n",
              "    .dataframe tbody tr th {\n",
              "        vertical-align: top;\n",
              "    }\n",
              "\n",
              "    .dataframe thead th {\n",
              "        text-align: right;\n",
              "    }\n",
              "</style>\n",
              "<table border=\"1\" class=\"dataframe\">\n",
              "  <thead>\n",
              "    <tr style=\"text-align: right;\">\n",
              "      <th></th>\n",
              "      <th>City</th>\n",
              "      <th>Retailer</th>\n",
              "      <th>Units Sold</th>\n",
              "    </tr>\n",
              "  </thead>\n",
              "  <tbody>\n",
              "    <tr>\n",
              "      <th>0</th>\n",
              "      <td>Albany</td>\n",
              "      <td>Kohl's</td>\n",
              "      <td>10053.0</td>\n",
              "    </tr>\n",
              "    <tr>\n",
              "      <th>3</th>\n",
              "      <td>Albuquerque</td>\n",
              "      <td>Sports Direct</td>\n",
              "      <td>8881.0</td>\n",
              "    </tr>\n",
              "    <tr>\n",
              "      <th>5</th>\n",
              "      <td>Anchorage</td>\n",
              "      <td>Foot Locker</td>\n",
              "      <td>4066.0</td>\n",
              "    </tr>\n",
              "    <tr>\n",
              "      <th>6</th>\n",
              "      <td>Atlanta</td>\n",
              "      <td>Foot Locker</td>\n",
              "      <td>14977.0</td>\n",
              "    </tr>\n",
              "    <tr>\n",
              "      <th>10</th>\n",
              "      <td>Baltimore</td>\n",
              "      <td>West Gear</td>\n",
              "      <td>5647.0</td>\n",
              "    </tr>\n",
              "  </tbody>\n",
              "</table>\n",
              "</div>"
            ],
            "text/plain": [
              "           City       Retailer  Units Sold\n",
              "0        Albany         Kohl's     10053.0\n",
              "3   Albuquerque  Sports Direct      8881.0\n",
              "5     Anchorage    Foot Locker      4066.0\n",
              "6       Atlanta    Foot Locker     14977.0\n",
              "10    Baltimore      West Gear      5647.0"
            ]
          },
          "execution_count": 118,
          "metadata": {},
          "output_type": "execute_result"
        }
      ],
      "source": [
        "\n",
        "print(\"\\nWorst Performing Retailers in Each City:\")\n",
        "worst_performers.head()"
      ]
    },
    {
      "cell_type": "markdown",
      "metadata": {
        "id": "58BHyESlVrPc"
      },
      "source": [
        "## 3. Profit Margin Analysis: Does the Opearing profit significantly impact sales?"
      ]
    },
    {
      "cell_type": "code",
      "execution_count": null,
      "metadata": {
        "id": "T1XbrU1SVrPc",
        "outputId": "674d7c13-4ea9-4921-c9da-445f422db8f0"
      },
      "outputs": [
        {
          "data": {
            "text/plain": [
              "0.9563074349716087"
            ]
          },
          "execution_count": 119,
          "metadata": {},
          "output_type": "execute_result"
        }
      ],
      "source": [
        "# We can answer the above question in the traditional long way using tables and graphs or we can also find the correlation between the Operating profit and Total Sales, if it is positive, the answer to the question is yes, and vice versa.\n",
        "\n",
        "# Correlation bewtween Operating Profit and Total Sales\n",
        "correlation = data['Operating Profit'].corr(data['Total Sales'])\n",
        "correlation"
      ]
    },
    {
      "cell_type": "markdown",
      "metadata": {
        "id": "AZGxPsKwVrPc"
      },
      "source": [
        "0.9563 correlation indicates a strong positive correlation between Total Sales and Operating Profit."
      ]
    },
    {
      "cell_type": "code",
      "execution_count": null,
      "metadata": {
        "id": "Up-X4WnsVrPc",
        "outputId": "66882a4a-dab5-454d-b467-52e420e0c188"
      },
      "outputs": [
        {
          "data": {
            "text/plain": [
              "0.8923793765537961"
            ]
          },
          "execution_count": 120,
          "metadata": {},
          "output_type": "execute_result"
        }
      ],
      "source": [
        "# Correlation bewtween Operating Profit and Total Sales\n",
        "correlation = data['Operating Profit'].corr(data['Units Sold'])\n",
        "correlation"
      ]
    },
    {
      "cell_type": "markdown",
      "metadata": {
        "id": "bnhvBcJjVrPc"
      },
      "source": [
        "Moreover, to add more, there is also a positive correlation between Units Sold and Operating Profit"
      ]
    },
    {
      "cell_type": "markdown",
      "metadata": {
        "id": "h8LuIUsnVrPc"
      },
      "source": [
        "1. The correlation is positive, 0.9563\n",
        "2. This shows that as the Total Sales go up the Operating Profit also go up.\n",
        "3. So the answer to question 3 is YES. Operating Profit does affect Units Sold in a positive way"
      ]
    },
    {
      "cell_type": "markdown",
      "metadata": {
        "id": "13bdvQXmVrPc"
      },
      "source": [
        "## 4. Efficiency of Sales Methods: Which sales method is more effective - in-store or online?"
      ]
    },
    {
      "cell_type": "code",
      "execution_count": null,
      "metadata": {
        "id": "7l53r0hwVrPc",
        "outputId": "47d8432a-9700-4ab1-d6aa-1f0d5d523709"
      },
      "outputs": [
        {
          "data": {
            "text/plain": [
              "array(['In-store', 'Outlet', 'Online'], dtype=object)"
            ]
          },
          "execution_count": 121,
          "metadata": {},
          "output_type": "execute_result"
        }
      ],
      "source": [
        "# Finding the unique column in the df\n",
        "\n",
        "sales_method_col = df['Sales Method']\n",
        "unique_sales_method_col = sales_method_col.unique()\n",
        "unique_sales_method_col"
      ]
    },
    {
      "cell_type": "code",
      "execution_count": null,
      "metadata": {
        "id": "zq9OTfvaVrPd"
      },
      "outputs": [],
      "source": [
        "##### When we plot maps in plotly, it requires the state names to be 2 letter abbrivations like NY, CA, NJ, etc instead of New York, California, New Jersey. So we use a library called \"us\" that will help me achieve this."
      ]
    },
    {
      "cell_type": "code",
      "execution_count": null,
      "metadata": {
        "id": "CqRAQc8DVrPd"
      },
      "outputs": [],
      "source": [
        "from us import states\n",
        "\n",
        "state_column = data['State']\n",
        "\n",
        "# Get the two-letter abbreviations of the state names\n",
        "state_abbreviations = []\n",
        "for state in state_column:\n",
        "    try:\n",
        "        # Lookup state by name or existing abbreviation\n",
        "        state_abbreviation = states.lookup(state).abbr\n",
        "    except AttributeError:\n",
        "        # In case the state is not found, set the abbreviation to None\n",
        "        state_abbreviation = None\n",
        "    state_abbreviations.append(state_abbreviation)\n",
        "\n",
        "# Create a new column in the dataframe with the two-letter abbreviations\n",
        "data['State Abbreviation'] = state_abbreviations"
      ]
    },
    {
      "cell_type": "code",
      "execution_count": null,
      "metadata": {
        "id": "_ZbCsa9lVrPd",
        "outputId": "a89eb207-ec3d-4db3-8432-599d0cd0d1d5"
      },
      "outputs": [
        {
          "data": {
            "text/plain": [
              "0    NY\n",
              "1    NY\n",
              "2    NY\n",
              "3    NY\n",
              "4    NY\n",
              "Name: State Abbreviation, dtype: object"
            ]
          },
          "execution_count": 124,
          "metadata": {},
          "output_type": "execute_result"
        }
      ],
      "source": [
        "# Checking the contents of the new column\n",
        "data['State Abbreviation'].head()"
      ]
    },
    {
      "cell_type": "markdown",
      "metadata": {
        "id": "mm_5tCi9VrPd"
      },
      "source": [
        "#### 4.1 Demonstrating Total Sales by State, Product, and Sales Method in the US using Choropleth Map"
      ]
    },
    {
      "cell_type": "code",
      "execution_count": null,
      "metadata": {
        "id": "ADIz0n6wVrPd",
        "outputId": "0dae98e9-f5af-47ff-84d7-c2cd4c5864a8"
      },
      "outputs": [
        {
          "data": {
            "application/vnd.plotly.v1+json": {
              "config": {
                "plotlyServerURL": "https://plot.ly"
              },
              "data": [
                {
                  "colorscale": [
                    [
                      0,
                      "#440154"
                    ],
                    [
                      0.1111111111111111,
                      "#482878"
                    ],
                    [
                      0.2222222222222222,
                      "#3e4989"
                    ],
                    [
                      0.3333333333333333,
                      "#31688e"
                    ],
                    [
                      0.4444444444444444,
                      "#26828e"
                    ],
                    [
                      0.5555555555555556,
                      "#1f9e89"
                    ],
                    [
                      0.6666666666666666,
                      "#35b779"
                    ],
                    [
                      0.7777777777777778,
                      "#6ece58"
                    ],
                    [
                      0.8888888888888888,
                      "#b5de2b"
                    ],
                    [
                      1,
                      "#fde725"
                    ]
                  ],
                  "locationmode": "USA-states",
                  "locations": [
                    "CO",
                    "CT",
                    "DE",
                    "FL",
                    "IA",
                    "IN",
                    "LA",
                    "MA",
                    "MD",
                    "MI",
                    "MN",
                    "MO",
                    "ND",
                    "NH",
                    "NJ",
                    "NV",
                    "NY",
                    "OR",
                    "RI",
                    "UT",
                    "VA",
                    "VT",
                    "WA",
                    "WI",
                    "WV",
                    "WY"
                  ],
                  "name": "Men's Street Footwear - In-store",
                  "showscale": true,
                  "type": "choropleth",
                  "visible": true,
                  "z": [
                    4083750.0000000005,
                    3262749.9999999995,
                    3433999.9999999995,
                    10617500,
                    2348500,
                    2642000,
                    746250,
                    3202750,
                    2640750,
                    4412000,
                    735500,
                    2667500,
                    2209500,
                    1840500,
                    2973249.9999999995,
                    2022500.0000000002,
                    6851250,
                    3996250,
                    2685749.9999999995,
                    2413000,
                    4223750,
                    3929750,
                    5286250,
                    2423500,
                    2939250,
                    4264250
                  ]
                },
                {
                  "colorscale": [
                    [
                      0,
                      "#440154"
                    ],
                    [
                      0.1111111111111111,
                      "#482878"
                    ],
                    [
                      0.2222222222222222,
                      "#3e4989"
                    ],
                    [
                      0.3333333333333333,
                      "#31688e"
                    ],
                    [
                      0.4444444444444444,
                      "#26828e"
                    ],
                    [
                      0.5555555555555556,
                      "#1f9e89"
                    ],
                    [
                      0.6666666666666666,
                      "#35b779"
                    ],
                    [
                      0.7777777777777778,
                      "#6ece58"
                    ],
                    [
                      0.8888888888888888,
                      "#b5de2b"
                    ],
                    [
                      1,
                      "#fde725"
                    ]
                  ],
                  "locationmode": "USA-states",
                  "locations": [
                    "AK",
                    "AL",
                    "AR",
                    "AZ",
                    "CA",
                    "CT",
                    "FL",
                    "GA",
                    "HI",
                    "ID",
                    "IL",
                    "LA",
                    "MA",
                    "ME",
                    "MN",
                    "MS",
                    "MT",
                    "NE",
                    "NH",
                    "NM",
                    "NV",
                    "NY",
                    "OK",
                    "OR",
                    "PA",
                    "RI",
                    "TN",
                    "TX",
                    "UT",
                    "VA",
                    "VT"
                  ],
                  "name": "Men's Street Footwear - Outlet",
                  "showscale": true,
                  "type": "choropleth",
                  "visible": false,
                  "z": [
                    4281500,
                    2886238,
                    74597,
                    75179,
                    10592715,
                    77949,
                    1642508,
                    89696,
                    4411250,
                    72753,
                    3008250,
                    101067,
                    75832,
                    2891500,
                    1702500,
                    85864,
                    2938750,
                    2075750,
                    2629531.0000000005,
                    87080,
                    2057105,
                    6862621,
                    67688,
                    97229,
                    3315757,
                    62431,
                    2987784,
                    7629708,
                    58983,
                    99032,
                    91089
                  ]
                },
                {
                  "colorscale": [
                    [
                      0,
                      "#440154"
                    ],
                    [
                      0.1111111111111111,
                      "#482878"
                    ],
                    [
                      0.2222222222222222,
                      "#3e4989"
                    ],
                    [
                      0.3333333333333333,
                      "#31688e"
                    ],
                    [
                      0.4444444444444444,
                      "#26828e"
                    ],
                    [
                      0.5555555555555556,
                      "#1f9e89"
                    ],
                    [
                      0.6666666666666666,
                      "#35b779"
                    ],
                    [
                      0.7777777777777778,
                      "#6ece58"
                    ],
                    [
                      0.8888888888888888,
                      "#b5de2b"
                    ],
                    [
                      1,
                      "#fde725"
                    ]
                  ],
                  "locationmode": "USA-states",
                  "locations": [
                    "AK",
                    "AL",
                    "AR",
                    "AZ",
                    "CA",
                    "CO",
                    "CT",
                    "DE",
                    "FL",
                    "GA",
                    "HI",
                    "IA",
                    "ID",
                    "IL",
                    "IN",
                    "KS",
                    "KY",
                    "LA",
                    "MA",
                    "MD",
                    "ME",
                    "MI",
                    "MN",
                    "MO",
                    "MS",
                    "MT",
                    "NC",
                    "ND",
                    "NE",
                    "NH",
                    "NJ",
                    "NM",
                    "NV",
                    "NY",
                    "OH",
                    "OK",
                    "OR",
                    "PA",
                    "RI",
                    "SC",
                    "SD",
                    "TN",
                    "TX",
                    "UT",
                    "VA",
                    "VT",
                    "WA",
                    "WI",
                    "WV",
                    "WY"
                  ],
                  "name": "Men's Street Footwear - Online",
                  "showscale": true,
                  "type": "choropleth",
                  "visible": false,
                  "z": [
                    110434,
                    73443,
                    3208460,
                    3125262,
                    269248,
                    100068,
                    82040,
                    88197,
                    308309,
                    3923152.0000000005,
                    113618,
                    60407,
                    3172241,
                    79701,
                    67332,
                    2883508,
                    3098870,
                    3699590,
                    84000,
                    67534,
                    76382,
                    114962,
                    60746,
                    70257,
                    3747041,
                    78545,
                    5438257,
                    348300.00000000006,
                    55324,
                    114017,
                    76825,
                    3805073.0000000005,
                    106555,
                    342775,
                    4464402,
                    2872549,
                    102456,
                    85454,
                    66370,
                    6465330,
                    2812070,
                    74840,
                    189442,
                    62760,
                    112832,
                    99798,
                    135307,
                    63506,
                    74922,
                    111797
                  ]
                },
                {
                  "colorscale": [
                    [
                      0,
                      "#440154"
                    ],
                    [
                      0.1111111111111111,
                      "#482878"
                    ],
                    [
                      0.2222222222222222,
                      "#3e4989"
                    ],
                    [
                      0.3333333333333333,
                      "#31688e"
                    ],
                    [
                      0.4444444444444444,
                      "#26828e"
                    ],
                    [
                      0.5555555555555556,
                      "#1f9e89"
                    ],
                    [
                      0.6666666666666666,
                      "#35b779"
                    ],
                    [
                      0.7777777777777778,
                      "#6ece58"
                    ],
                    [
                      0.8888888888888888,
                      "#b5de2b"
                    ],
                    [
                      1,
                      "#fde725"
                    ]
                  ],
                  "locationmode": "USA-states",
                  "locations": [
                    "CO",
                    "CT",
                    "DE",
                    "FL",
                    "IA",
                    "IN",
                    "LA",
                    "MA",
                    "MD",
                    "MI",
                    "MN",
                    "MO",
                    "ND",
                    "NH",
                    "NJ",
                    "NV",
                    "NY",
                    "OR",
                    "RI",
                    "UT",
                    "VA",
                    "VT",
                    "WA",
                    "WI",
                    "WV",
                    "WY"
                  ],
                  "name": "Men's Athletic Footwear - In-store",
                  "showscale": true,
                  "type": "choropleth",
                  "visible": false,
                  "z": [
                    3937500.0000000005,
                    1677500,
                    1836250,
                    9010000.000000002,
                    1061250.0000000002,
                    1273750.0000000002,
                    585000,
                    1610000,
                    1168750,
                    2825000.0000000005,
                    210000,
                    1436250.0000000002,
                    1013750.0000000001,
                    697500,
                    1488750,
                    2185000.0000000005,
                    4232500.000000001,
                    3976250.0000000005,
                    1226250,
                    1450000.0000000002,
                    3966250.0000000005,
                    2133750,
                    4910000.000000001,
                    1113750,
                    1496250.0000000002,
                    2827500.0000000005
                  ]
                },
                {
                  "colorscale": [
                    [
                      0,
                      "#440154"
                    ],
                    [
                      0.1111111111111111,
                      "#482878"
                    ],
                    [
                      0.2222222222222222,
                      "#3e4989"
                    ],
                    [
                      0.3333333333333333,
                      "#31688e"
                    ],
                    [
                      0.4444444444444444,
                      "#26828e"
                    ],
                    [
                      0.5555555555555556,
                      "#1f9e89"
                    ],
                    [
                      0.6666666666666666,
                      "#35b779"
                    ],
                    [
                      0.7777777777777778,
                      "#6ece58"
                    ],
                    [
                      0.8888888888888888,
                      "#b5de2b"
                    ],
                    [
                      1,
                      "#fde725"
                    ]
                  ],
                  "locationmode": "USA-states",
                  "locations": [
                    "AK",
                    "AL",
                    "AR",
                    "AZ",
                    "CA",
                    "CT",
                    "FL",
                    "GA",
                    "HI",
                    "ID",
                    "IL",
                    "LA",
                    "MA",
                    "ME",
                    "MN",
                    "MS",
                    "MT",
                    "NE",
                    "NH",
                    "NM",
                    "NV",
                    "NY",
                    "OK",
                    "OR",
                    "PA",
                    "RI",
                    "TN",
                    "TX",
                    "UT",
                    "VA",
                    "VT"
                  ],
                  "name": "Men's Athletic Footwear - Outlet",
                  "showscale": true,
                  "type": "choropleth",
                  "visible": false,
                  "z": [
                    2466250.0000000005,
                    3169247.0000000005,
                    40632,
                    67460,
                    10643905,
                    39939,
                    878484,
                    79213,
                    4232500,
                    81825,
                    1521250,
                    100272,
                    37296,
                    1406250,
                    927500,
                    53418,
                    2973750,
                    918750,
                    1775928.0000000002,
                    82725,
                    1741570,
                    5644948.000000001,
                    34435,
                    92591,
                    1596046.0000000002,
                    30550,
                    3290647,
                    8502705,
                    36002,
                    89832,
                    53401
                  ]
                },
                {
                  "colorscale": [
                    [
                      0,
                      "#440154"
                    ],
                    [
                      0.1111111111111111,
                      "#482878"
                    ],
                    [
                      0.2222222222222222,
                      "#3e4989"
                    ],
                    [
                      0.3333333333333333,
                      "#31688e"
                    ],
                    [
                      0.4444444444444444,
                      "#26828e"
                    ],
                    [
                      0.5555555555555556,
                      "#1f9e89"
                    ],
                    [
                      0.6666666666666666,
                      "#35b779"
                    ],
                    [
                      0.7777777777777778,
                      "#6ece58"
                    ],
                    [
                      0.8888888888888888,
                      "#b5de2b"
                    ],
                    [
                      1,
                      "#fde725"
                    ]
                  ],
                  "locationmode": "USA-states",
                  "locations": [
                    "AK",
                    "AL",
                    "AR",
                    "AZ",
                    "CA",
                    "CO",
                    "CT",
                    "DE",
                    "FL",
                    "GA",
                    "HI",
                    "IA",
                    "ID",
                    "IL",
                    "IN",
                    "KS",
                    "KY",
                    "LA",
                    "MA",
                    "MD",
                    "ME",
                    "MI",
                    "MN",
                    "MO",
                    "MS",
                    "MT",
                    "NC",
                    "ND",
                    "NE",
                    "NH",
                    "NJ",
                    "NM",
                    "NV",
                    "NY",
                    "OH",
                    "OK",
                    "OR",
                    "PA",
                    "RI",
                    "SC",
                    "SD",
                    "TN",
                    "TX",
                    "UT",
                    "VA",
                    "VT",
                    "WA",
                    "WI",
                    "WV",
                    "WY"
                  ],
                  "name": "Men's Athletic Footwear - Online",
                  "showscale": true,
                  "type": "choropleth",
                  "visible": false,
                  "z": [
                    62479,
                    81987,
                    1820218.0000000002,
                    3037241.0000000005,
                    274934,
                    102315,
                    42978,
                    47909,
                    247800,
                    3591537.0000000005,
                    110455,
                    27587,
                    3519938,
                    39020,
                    33089,
                    1469278.0000000002,
                    1576409.0000000002,
                    3922059.0000000005,
                    42620,
                    29970,
                    37483,
                    75751,
                    29762,
                    36182,
                    2287737.0000000005,
                    77354,
                    3678426.0000000005,
                    134012,
                    24233,
                    63860,
                    39323,
                    3720405.0000000005,
                    102169,
                    253676,
                    2770609.0000000005,
                    1528435.0000000002,
                    105737,
                    40387,
                    31026,
                    4556660.000000001,
                    1284513,
                    83422,
                    210331,
                    38487,
                    102409,
                    53024,
                    127103,
                    29149,
                    40123,
                    73998
                  ]
                },
                {
                  "colorscale": [
                    [
                      0,
                      "#440154"
                    ],
                    [
                      0.1111111111111111,
                      "#482878"
                    ],
                    [
                      0.2222222222222222,
                      "#3e4989"
                    ],
                    [
                      0.3333333333333333,
                      "#31688e"
                    ],
                    [
                      0.4444444444444444,
                      "#26828e"
                    ],
                    [
                      0.5555555555555556,
                      "#1f9e89"
                    ],
                    [
                      0.6666666666666666,
                      "#35b779"
                    ],
                    [
                      0.7777777777777778,
                      "#6ece58"
                    ],
                    [
                      0.8888888888888888,
                      "#b5de2b"
                    ],
                    [
                      1,
                      "#fde725"
                    ]
                  ],
                  "locationmode": "USA-states",
                  "locations": [
                    "CO",
                    "CT",
                    "DE",
                    "FL",
                    "IA",
                    "IN",
                    "LA",
                    "MA",
                    "MD",
                    "MI",
                    "MN",
                    "MO",
                    "ND",
                    "NH",
                    "NJ",
                    "NV",
                    "NY",
                    "OR",
                    "RI",
                    "UT",
                    "VA",
                    "VT",
                    "WA",
                    "WI",
                    "WV",
                    "WY"
                  ],
                  "name": "Women's Street Footwear - In-store",
                  "showscale": true,
                  "type": "choropleth",
                  "visible": false,
                  "z": [
                    3307500,
                    1327250,
                    1464750,
                    7522500.000000001,
                    740750.0000000001,
                    932000.0000000001,
                    646250,
                    1267250,
                    842500,
                    2266500,
                    182500,
                    1050000.0000000002,
                    715500,
                    591250,
                    1157500,
                    1903750.0000000002,
                    3518750.0000000005,
                    3398750,
                    927500,
                    1134000.0000000002,
                    3301250,
                    1737000,
                    4123750.0000000005,
                    783250,
                    1145750,
                    2361500
                  ]
                },
                {
                  "colorscale": [
                    [
                      0,
                      "#440154"
                    ],
                    [
                      0.1111111111111111,
                      "#482878"
                    ],
                    [
                      0.2222222222222222,
                      "#3e4989"
                    ],
                    [
                      0.3333333333333333,
                      "#31688e"
                    ],
                    [
                      0.4444444444444444,
                      "#26828e"
                    ],
                    [
                      0.5555555555555556,
                      "#1f9e89"
                    ],
                    [
                      0.6666666666666666,
                      "#35b779"
                    ],
                    [
                      0.7777777777777778,
                      "#6ece58"
                    ],
                    [
                      0.8888888888888888,
                      "#b5de2b"
                    ],
                    [
                      1,
                      "#fde725"
                    ]
                  ],
                  "locationmode": "USA-states",
                  "locations": [
                    "AK",
                    "AL",
                    "AR",
                    "AZ",
                    "CA",
                    "CT",
                    "FL",
                    "GA",
                    "HI",
                    "ID",
                    "IL",
                    "LA",
                    "MA",
                    "ME",
                    "MN",
                    "MS",
                    "MT",
                    "NE",
                    "NH",
                    "NM",
                    "NV",
                    "NY",
                    "OK",
                    "OR",
                    "PA",
                    "RI",
                    "TN",
                    "TX",
                    "UT",
                    "VA",
                    "VT"
                  ],
                  "name": "Women's Street Footwear - Outlet",
                  "showscale": true,
                  "type": "choropleth",
                  "visible": false,
                  "z": [
                    1860500.0000000002,
                    3081969,
                    32285,
                    59659,
                    9303923,
                    31418,
                    937641,
                    65457,
                    3540000,
                    78307,
                    1131250,
                    80408,
                    28379,
                    1086000,
                    686750,
                    41319,
                    2426250,
                    639750,
                    1470688.0000000002,
                    71013,
                    1363936,
                    4844991,
                    26976,
                    81061,
                    1254271,
                    22297,
                    3102651,
                    7933231,
                    26824,
                    76693,
                    40318
                  ]
                },
                {
                  "colorscale": [
                    [
                      0,
                      "#440154"
                    ],
                    [
                      0.1111111111111111,
                      "#482878"
                    ],
                    [
                      0.2222222222222222,
                      "#3e4989"
                    ],
                    [
                      0.3333333333333333,
                      "#31688e"
                    ],
                    [
                      0.4444444444444444,
                      "#26828e"
                    ],
                    [
                      0.5555555555555556,
                      "#1f9e89"
                    ],
                    [
                      0.6666666666666666,
                      "#35b779"
                    ],
                    [
                      0.7777777777777778,
                      "#6ece58"
                    ],
                    [
                      0.8888888888888888,
                      "#b5de2b"
                    ],
                    [
                      1,
                      "#fde725"
                    ]
                  ],
                  "locationmode": "USA-states",
                  "locations": [
                    "AK",
                    "AL",
                    "AR",
                    "AZ",
                    "CA",
                    "CO",
                    "CT",
                    "DE",
                    "FL",
                    "GA",
                    "HI",
                    "IA",
                    "ID",
                    "IL",
                    "IN",
                    "KS",
                    "KY",
                    "LA",
                    "MA",
                    "MD",
                    "ME",
                    "MI",
                    "MN",
                    "MO",
                    "MS",
                    "MT",
                    "NC",
                    "ND",
                    "NE",
                    "NH",
                    "NJ",
                    "NM",
                    "NV",
                    "NY",
                    "OH",
                    "OK",
                    "OR",
                    "PA",
                    "RI",
                    "SC",
                    "SD",
                    "TN",
                    "TX",
                    "UT",
                    "VA",
                    "VT",
                    "WA",
                    "WI",
                    "WV",
                    "WY"
                  ],
                  "name": "Women's Street Footwear - Online",
                  "showscale": true,
                  "type": "choropleth",
                  "visible": false,
                  "z": [
                    48403,
                    78130,
                    1392365.0000000002,
                    2525246.0000000005,
                    236523,
                    85453,
                    33706,
                    37547,
                    218342,
                    2891056.0000000005,
                    90409,
                    19471,
                    3431862,
                    29532,
                    24198,
                    1116162.0000000002,
                    1161721.0000000002,
                    3148035.0000000005,
                    31699,
                    22103,
                    28148,
                    59450,
                    21927,
                    28374,
                    1793316.0000000002,
                    64025,
                    3039971.0000000005,
                    95689.00000000001,
                    16696,
                    54495,
                    29933,
                    3119064.0000000005,
                    82879,
                    214248,
                    2262726.0000000005,
                    1142110.0000000002,
                    90225,
                    30698,
                    25101,
                    3817906.0000000005,
                    931671,
                    78743,
                    199309,
                    29391,
                    86997,
                    45603,
                    105542,
                    20477,
                    30030,
                    60641
                  ]
                },
                {
                  "colorscale": [
                    [
                      0,
                      "#440154"
                    ],
                    [
                      0.1111111111111111,
                      "#482878"
                    ],
                    [
                      0.2222222222222222,
                      "#3e4989"
                    ],
                    [
                      0.3333333333333333,
                      "#31688e"
                    ],
                    [
                      0.4444444444444444,
                      "#26828e"
                    ],
                    [
                      0.5555555555555556,
                      "#1f9e89"
                    ],
                    [
                      0.6666666666666666,
                      "#35b779"
                    ],
                    [
                      0.7777777777777778,
                      "#6ece58"
                    ],
                    [
                      0.8888888888888888,
                      "#b5de2b"
                    ],
                    [
                      1,
                      "#fde725"
                    ]
                  ],
                  "locationmode": "USA-states",
                  "locations": [
                    "CO",
                    "CT",
                    "DE",
                    "FL",
                    "IA",
                    "IN",
                    "LA",
                    "MA",
                    "MD",
                    "MI",
                    "MN",
                    "MO",
                    "ND",
                    "NH",
                    "NJ",
                    "NV",
                    "NY",
                    "OR",
                    "RI",
                    "UT",
                    "VA",
                    "VT",
                    "WA",
                    "WI",
                    "WV",
                    "WY"
                  ],
                  "name": "Women's Athletic Footwear - In-store",
                  "showscale": true,
                  "type": "choropleth",
                  "visible": false,
                  "z": [
                    2730000,
                    1072500,
                    1211250,
                    6582500.000000001,
                    575000,
                    741250,
                    533750,
                    1093750,
                    558750,
                    2110000,
                    60000,
                    887500.0000000001,
                    532500,
                    566250,
                    880000,
                    1663750,
                    3282500,
                    2620000,
                    642500,
                    865000.0000000001,
                    2627500,
                    1378750,
                    3497500,
                    611250,
                    1025000,
                    2171250
                  ]
                },
                {
                  "colorscale": [
                    [
                      0,
                      "#440154"
                    ],
                    [
                      0.1111111111111111,
                      "#482878"
                    ],
                    [
                      0.2222222222222222,
                      "#3e4989"
                    ],
                    [
                      0.3333333333333333,
                      "#31688e"
                    ],
                    [
                      0.4444444444444444,
                      "#26828e"
                    ],
                    [
                      0.5555555555555556,
                      "#1f9e89"
                    ],
                    [
                      0.6666666666666666,
                      "#35b779"
                    ],
                    [
                      0.7777777777777778,
                      "#6ece58"
                    ],
                    [
                      0.8888888888888888,
                      "#b5de2b"
                    ],
                    [
                      1,
                      "#fde725"
                    ]
                  ],
                  "locationmode": "USA-states",
                  "locations": [
                    "AK",
                    "AL",
                    "AR",
                    "AZ",
                    "CA",
                    "CT",
                    "FL",
                    "GA",
                    "HI",
                    "ID",
                    "IL",
                    "LA",
                    "MA",
                    "ME",
                    "MN",
                    "MS",
                    "MT",
                    "NE",
                    "NH",
                    "NM",
                    "NV",
                    "NY",
                    "OK",
                    "OR",
                    "PA",
                    "RI",
                    "TN",
                    "TX",
                    "UT",
                    "VA",
                    "VT"
                  ],
                  "name": "Women's Athletic Footwear - Outlet",
                  "showscale": true,
                  "type": "choropleth",
                  "visible": false,
                  "z": [
                    1333750.0000000002,
                    2216720,
                    30833,
                    42627,
                    8014099,
                    24899,
                    775007,
                    52659,
                    2812500,
                    56635,
                    901250,
                    70522,
                    25919,
                    781250,
                    526250,
                    39814,
                    1980000,
                    453750,
                    1120133.0000000002,
                    56370,
                    963548,
                    4692374,
                    25991,
                    61632,
                    903469.0000000001,
                    15005,
                    2249858,
                    6174511,
                    20215,
                    62925,
                    33914
                  ]
                },
                {
                  "colorscale": [
                    [
                      0,
                      "#440154"
                    ],
                    [
                      0.1111111111111111,
                      "#482878"
                    ],
                    [
                      0.2222222222222222,
                      "#3e4989"
                    ],
                    [
                      0.3333333333333333,
                      "#31688e"
                    ],
                    [
                      0.4444444444444444,
                      "#26828e"
                    ],
                    [
                      0.5555555555555556,
                      "#1f9e89"
                    ],
                    [
                      0.6666666666666666,
                      "#35b779"
                    ],
                    [
                      0.7777777777777778,
                      "#6ece58"
                    ],
                    [
                      0.8888888888888888,
                      "#b5de2b"
                    ],
                    [
                      1,
                      "#fde725"
                    ]
                  ],
                  "locationmode": "USA-states",
                  "locations": [
                    "AK",
                    "AL",
                    "AR",
                    "AZ",
                    "CA",
                    "CO",
                    "CT",
                    "DE",
                    "FL",
                    "GA",
                    "HI",
                    "IA",
                    "ID",
                    "IL",
                    "IN",
                    "KS",
                    "KY",
                    "LA",
                    "MA",
                    "MD",
                    "ME",
                    "MI",
                    "MN",
                    "MO",
                    "MS",
                    "MT",
                    "NC",
                    "ND",
                    "NE",
                    "NH",
                    "NJ",
                    "NM",
                    "NV",
                    "NY",
                    "OH",
                    "OK",
                    "OR",
                    "PA",
                    "RI",
                    "SC",
                    "SD",
                    "TN",
                    "TX",
                    "UT",
                    "VA",
                    "VT",
                    "WA",
                    "WI",
                    "WV",
                    "WY"
                  ],
                  "name": "Women's Athletic Footwear - Online",
                  "showscale": true,
                  "type": "choropleth",
                  "visible": false,
                  "z": [
                    34764,
                    57838,
                    1359919.0000000002,
                    1908576.0000000002,
                    207325,
                    69988,
                    28521,
                    31330,
                    194379,
                    2288173,
                    72258,
                    14654,
                    2482491,
                    23549,
                    20133,
                    980045.0000000001,
                    905788,
                    2592894.0000000005,
                    28259,
                    14489,
                    19656,
                    56103,
                    15979,
                    22598,
                    1784091.0000000002,
                    50648,
                    3002325,
                    83334,
                    11927,
                    42022,
                    22362,
                    2526422.0000000005,
                    66351,
                    199185,
                    2235911,
                    1068832,
                    70573,
                    23307,
                    17553,
                    3744447.0000000005,
                    685516,
                    55613,
                    159536,
                    22545,
                    67095,
                    34773,
                    89806,
                    16021,
                    26468,
                    57095
                  ]
                },
                {
                  "colorscale": [
                    [
                      0,
                      "#440154"
                    ],
                    [
                      0.1111111111111111,
                      "#482878"
                    ],
                    [
                      0.2222222222222222,
                      "#3e4989"
                    ],
                    [
                      0.3333333333333333,
                      "#31688e"
                    ],
                    [
                      0.4444444444444444,
                      "#26828e"
                    ],
                    [
                      0.5555555555555556,
                      "#1f9e89"
                    ],
                    [
                      0.6666666666666666,
                      "#35b779"
                    ],
                    [
                      0.7777777777777778,
                      "#6ece58"
                    ],
                    [
                      0.8888888888888888,
                      "#b5de2b"
                    ],
                    [
                      1,
                      "#fde725"
                    ]
                  ],
                  "locationmode": "USA-states",
                  "locations": [
                    "CO",
                    "CT",
                    "DE",
                    "FL",
                    "IA",
                    "IN",
                    "LA",
                    "MA",
                    "MD",
                    "MI",
                    "MN",
                    "MO",
                    "ND",
                    "NH",
                    "NJ",
                    "NV",
                    "NY",
                    "OR",
                    "RI",
                    "UT",
                    "VA",
                    "VT",
                    "WA",
                    "WI",
                    "WV",
                    "WY"
                  ],
                  "name": "Men's Apparel - In-store",
                  "showscale": true,
                  "type": "choropleth",
                  "visible": false,
                  "z": [
                    2573750,
                    1408750,
                    1586250,
                    8272500.000000001,
                    905000,
                    1146250,
                    346250.00000000006,
                    1256250,
                    787500,
                    2846250,
                    238749.99999999997,
                    1411250,
                    772500,
                    796250,
                    1192500,
                    1713750,
                    4316250,
                    2548750,
                    885000,
                    1376250,
                    2651250,
                    1775000,
                    3260000.0000000005,
                    945000,
                    1511250,
                    2802500
                  ]
                },
                {
                  "colorscale": [
                    [
                      0,
                      "#440154"
                    ],
                    [
                      0.1111111111111111,
                      "#482878"
                    ],
                    [
                      0.2222222222222222,
                      "#3e4989"
                    ],
                    [
                      0.3333333333333333,
                      "#31688e"
                    ],
                    [
                      0.4444444444444444,
                      "#26828e"
                    ],
                    [
                      0.5555555555555556,
                      "#1f9e89"
                    ],
                    [
                      0.6666666666666666,
                      "#35b779"
                    ],
                    [
                      0.7777777777777778,
                      "#6ece58"
                    ],
                    [
                      0.8888888888888888,
                      "#b5de2b"
                    ],
                    [
                      1,
                      "#fde725"
                    ]
                  ],
                  "locationmode": "USA-states",
                  "locations": [
                    "AK",
                    "AL",
                    "AR",
                    "AZ",
                    "CA",
                    "CT",
                    "FL",
                    "GA",
                    "HI",
                    "ID",
                    "IL",
                    "LA",
                    "MA",
                    "ME",
                    "MN",
                    "MS",
                    "MT",
                    "NE",
                    "NH",
                    "NM",
                    "NV",
                    "NY",
                    "OK",
                    "OR",
                    "PA",
                    "RI",
                    "TN",
                    "TX",
                    "UT",
                    "VA",
                    "VT"
                  ],
                  "name": "Men's Apparel - Outlet",
                  "showscale": true,
                  "type": "choropleth",
                  "visible": false,
                  "z": [
                    1633750,
                    2156781,
                    43796,
                    44046,
                    8646005,
                    33287,
                    551467,
                    54757,
                    2720000.0000000005,
                    56553,
                    1075000,
                    70014,
                    29525,
                    969999.9999999999,
                    484999.99999999994,
                    57332,
                    1962499.9999999998,
                    517500,
                    1334701.0000000002,
                    56032,
                    842585,
                    6124663,
                    37227,
                    61424,
                    1029213,
                    20670,
                    2246841,
                    5874520,
                    32368,
                    64917,
                    42163
                  ]
                },
                {
                  "colorscale": [
                    [
                      0,
                      "#440154"
                    ],
                    [
                      0.1111111111111111,
                      "#482878"
                    ],
                    [
                      0.2222222222222222,
                      "#3e4989"
                    ],
                    [
                      0.3333333333333333,
                      "#31688e"
                    ],
                    [
                      0.4444444444444444,
                      "#26828e"
                    ],
                    [
                      0.5555555555555556,
                      "#1f9e89"
                    ],
                    [
                      0.6666666666666666,
                      "#35b779"
                    ],
                    [
                      0.7777777777777778,
                      "#6ece58"
                    ],
                    [
                      0.8888888888888888,
                      "#b5de2b"
                    ],
                    [
                      1,
                      "#fde725"
                    ]
                  ],
                  "locationmode": "USA-states",
                  "locations": [
                    "AK",
                    "AL",
                    "AR",
                    "AZ",
                    "CA",
                    "CO",
                    "CT",
                    "DE",
                    "FL",
                    "GA",
                    "HI",
                    "IA",
                    "ID",
                    "IL",
                    "IN",
                    "KS",
                    "KY",
                    "LA",
                    "MA",
                    "MD",
                    "ME",
                    "MI",
                    "MN",
                    "MO",
                    "MS",
                    "MT",
                    "NC",
                    "ND",
                    "NE",
                    "NH",
                    "NJ",
                    "NM",
                    "NV",
                    "NY",
                    "OH",
                    "OK",
                    "OR",
                    "PA",
                    "RI",
                    "SC",
                    "SD",
                    "TN",
                    "TX",
                    "UT",
                    "VA",
                    "VT",
                    "WA",
                    "WI",
                    "WV",
                    "WY"
                  ],
                  "name": "Men's Apparel - Online",
                  "showscale": true,
                  "type": "choropleth",
                  "visible": false,
                  "z": [
                    43774,
                    54881,
                    1948184,
                    1846262.0000000002,
                    216097,
                    66257,
                    36239,
                    40524,
                    230253,
                    2381897,
                    72521,
                    23928,
                    2289168,
                    27791,
                    29851,
                    1405053,
                    1282324,
                    2664137,
                    33028,
                    20727,
                    25810,
                    72857,
                    18854,
                    36307,
                    2458086,
                    50506,
                    3990466,
                    152294,
                    12697,
                    56189,
                    31312,
                    2472312.0000000005,
                    63609,
                    267806,
                    2970467,
                    1539696,
                    64283,
                    26286,
                    23011,
                    4914897,
                    995364,
                    57231,
                    148093,
                    35994,
                    66759,
                    45533,
                    82563,
                    24692,
                    38725,
                    73400
                  ]
                },
                {
                  "colorscale": [
                    [
                      0,
                      "#440154"
                    ],
                    [
                      0.1111111111111111,
                      "#482878"
                    ],
                    [
                      0.2222222222222222,
                      "#3e4989"
                    ],
                    [
                      0.3333333333333333,
                      "#31688e"
                    ],
                    [
                      0.4444444444444444,
                      "#26828e"
                    ],
                    [
                      0.5555555555555556,
                      "#1f9e89"
                    ],
                    [
                      0.6666666666666666,
                      "#35b779"
                    ],
                    [
                      0.7777777777777778,
                      "#6ece58"
                    ],
                    [
                      0.8888888888888888,
                      "#b5de2b"
                    ],
                    [
                      1,
                      "#fde725"
                    ]
                  ],
                  "locationmode": "USA-states",
                  "locations": [
                    "CO",
                    "CT",
                    "DE",
                    "FL",
                    "IA",
                    "IN",
                    "LA",
                    "MA",
                    "MD",
                    "MI",
                    "MN",
                    "MO",
                    "ND",
                    "NH",
                    "NJ",
                    "NV",
                    "NY",
                    "OR",
                    "RI",
                    "UT",
                    "VA",
                    "VT",
                    "WA",
                    "WI",
                    "WV",
                    "WY"
                  ],
                  "name": "Women's Apparel - In-store",
                  "showscale": true,
                  "type": "choropleth",
                  "visible": false,
                  "z": [
                    3842500.0000000005,
                    2281250,
                    2456250,
                    9800000,
                    1607500,
                    1877500,
                    536250,
                    2123750,
                    1564999.9999999998,
                    3693750,
                    411250,
                    1985000,
                    1498750,
                    1130000,
                    1989999.9999999998,
                    2070000.0000000002,
                    5161250,
                    3796250,
                    1682499.9999999998,
                    1993750,
                    3786250,
                    2725000,
                    4598750,
                    1655000,
                    2302500,
                    3678750.0000000005
                  ]
                },
                {
                  "colorscale": [
                    [
                      0,
                      "#440154"
                    ],
                    [
                      0.1111111111111111,
                      "#482878"
                    ],
                    [
                      0.2222222222222222,
                      "#3e4989"
                    ],
                    [
                      0.3333333333333333,
                      "#31688e"
                    ],
                    [
                      0.4444444444444444,
                      "#26828e"
                    ],
                    [
                      0.5555555555555556,
                      "#1f9e89"
                    ],
                    [
                      0.6666666666666666,
                      "#35b779"
                    ],
                    [
                      0.7777777777777778,
                      "#6ece58"
                    ],
                    [
                      0.8888888888888888,
                      "#b5de2b"
                    ],
                    [
                      1,
                      "#fde725"
                    ]
                  ],
                  "locationmode": "USA-states",
                  "locations": [
                    "AK",
                    "AL",
                    "AR",
                    "AZ",
                    "CA",
                    "CT",
                    "FL",
                    "GA",
                    "HI",
                    "ID",
                    "IL",
                    "LA",
                    "MA",
                    "ME",
                    "MN",
                    "MS",
                    "MT",
                    "NE",
                    "NH",
                    "NM",
                    "NV",
                    "NY",
                    "OK",
                    "OR",
                    "PA",
                    "RI",
                    "TN",
                    "TX",
                    "UT",
                    "VA",
                    "VT"
                  ],
                  "name": "Women's Apparel - Outlet",
                  "showscale": true,
                  "type": "choropleth",
                  "visible": false,
                  "z": [
                    2805000,
                    3680913,
                    62222,
                    67738,
                    11484741,
                    51960,
                    1217793,
                    79865,
                    4003750,
                    90094,
                    1911250,
                    96925,
                    49953,
                    1827500,
                    1027500,
                    73438,
                    3030000,
                    1172500,
                    2049413,
                    87773,
                    1809410,
                    7107767,
                    50307,
                    89045,
                    2003313,
                    39733,
                    3747298,
                    9101592,
                    50046,
                    91830,
                    66286
                  ]
                },
                {
                  "colorscale": [
                    [
                      0,
                      "#440154"
                    ],
                    [
                      0.1111111111111111,
                      "#482878"
                    ],
                    [
                      0.2222222222222222,
                      "#3e4989"
                    ],
                    [
                      0.3333333333333333,
                      "#31688e"
                    ],
                    [
                      0.4444444444444444,
                      "#26828e"
                    ],
                    [
                      0.5555555555555556,
                      "#1f9e89"
                    ],
                    [
                      0.6666666666666666,
                      "#35b779"
                    ],
                    [
                      0.7777777777777778,
                      "#6ece58"
                    ],
                    [
                      0.8888888888888888,
                      "#b5de2b"
                    ],
                    [
                      1,
                      "#fde725"
                    ]
                  ],
                  "locationmode": "USA-states",
                  "locations": [
                    "AK",
                    "AL",
                    "AR",
                    "AZ",
                    "CA",
                    "CO",
                    "CT",
                    "DE",
                    "FL",
                    "GA",
                    "HI",
                    "IA",
                    "ID",
                    "IL",
                    "IN",
                    "KS",
                    "KY",
                    "LA",
                    "MA",
                    "MD",
                    "ME",
                    "MI",
                    "MN",
                    "MO",
                    "MS",
                    "MT",
                    "NC",
                    "ND",
                    "NE",
                    "NH",
                    "NJ",
                    "NM",
                    "NV",
                    "NY",
                    "OH",
                    "OK",
                    "OR",
                    "PA",
                    "RI",
                    "SC",
                    "SD",
                    "TN",
                    "TX",
                    "UT",
                    "VA",
                    "VT",
                    "WA",
                    "WI",
                    "WV",
                    "WY"
                  ],
                  "name": "Women's Apparel - Online",
                  "showscale": true,
                  "type": "choropleth",
                  "visible": false,
                  "z": [
                    72499,
                    95277,
                    2625836,
                    2982925,
                    284618,
                    97455,
                    60512,
                    64155,
                    276731,
                    3500004,
                    103196,
                    39964,
                    3945011,
                    49645,
                    48845,
                    2118818,
                    2047736,
                    3811108.0000000005,
                    56550,
                    39986,
                    45999,
                    92810,
                    37300,
                    52047,
                    3170253,
                    78558,
                    4807086,
                    179451,
                    30161,
                    78940,
                    52491,
                    3780747.0000000005,
                    100042,
                    311485,
                    3780468,
                    2226488,
                    97168,
                    49318,
                    43559,
                    5786397,
                    1786442,
                    92512,
                    236768,
                    50805,
                    97469,
                    67771,
                    114147,
                    41874,
                    58892,
                    94836
                  ]
                }
              ],
              "layout": {
                "geo": {
                  "scope": "usa"
                },
                "template": {
                  "data": {
                    "bar": [
                      {
                        "error_x": {
                          "color": "#2a3f5f"
                        },
                        "error_y": {
                          "color": "#2a3f5f"
                        },
                        "marker": {
                          "line": {
                            "color": "#E5ECF6",
                            "width": 0.5
                          },
                          "pattern": {
                            "fillmode": "overlay",
                            "size": 10,
                            "solidity": 0.2
                          }
                        },
                        "type": "bar"
                      }
                    ],
                    "barpolar": [
                      {
                        "marker": {
                          "line": {
                            "color": "#E5ECF6",
                            "width": 0.5
                          },
                          "pattern": {
                            "fillmode": "overlay",
                            "size": 10,
                            "solidity": 0.2
                          }
                        },
                        "type": "barpolar"
                      }
                    ],
                    "carpet": [
                      {
                        "aaxis": {
                          "endlinecolor": "#2a3f5f",
                          "gridcolor": "white",
                          "linecolor": "white",
                          "minorgridcolor": "white",
                          "startlinecolor": "#2a3f5f"
                        },
                        "baxis": {
                          "endlinecolor": "#2a3f5f",
                          "gridcolor": "white",
                          "linecolor": "white",
                          "minorgridcolor": "white",
                          "startlinecolor": "#2a3f5f"
                        },
                        "type": "carpet"
                      }
                    ],
                    "choropleth": [
                      {
                        "colorbar": {
                          "outlinewidth": 0,
                          "ticks": ""
                        },
                        "type": "choropleth"
                      }
                    ],
                    "contour": [
                      {
                        "colorbar": {
                          "outlinewidth": 0,
                          "ticks": ""
                        },
                        "colorscale": [
                          [
                            0,
                            "#0d0887"
                          ],
                          [
                            0.1111111111111111,
                            "#46039f"
                          ],
                          [
                            0.2222222222222222,
                            "#7201a8"
                          ],
                          [
                            0.3333333333333333,
                            "#9c179e"
                          ],
                          [
                            0.4444444444444444,
                            "#bd3786"
                          ],
                          [
                            0.5555555555555556,
                            "#d8576b"
                          ],
                          [
                            0.6666666666666666,
                            "#ed7953"
                          ],
                          [
                            0.7777777777777778,
                            "#fb9f3a"
                          ],
                          [
                            0.8888888888888888,
                            "#fdca26"
                          ],
                          [
                            1,
                            "#f0f921"
                          ]
                        ],
                        "type": "contour"
                      }
                    ],
                    "contourcarpet": [
                      {
                        "colorbar": {
                          "outlinewidth": 0,
                          "ticks": ""
                        },
                        "type": "contourcarpet"
                      }
                    ],
                    "heatmap": [
                      {
                        "colorbar": {
                          "outlinewidth": 0,
                          "ticks": ""
                        },
                        "colorscale": [
                          [
                            0,
                            "#0d0887"
                          ],
                          [
                            0.1111111111111111,
                            "#46039f"
                          ],
                          [
                            0.2222222222222222,
                            "#7201a8"
                          ],
                          [
                            0.3333333333333333,
                            "#9c179e"
                          ],
                          [
                            0.4444444444444444,
                            "#bd3786"
                          ],
                          [
                            0.5555555555555556,
                            "#d8576b"
                          ],
                          [
                            0.6666666666666666,
                            "#ed7953"
                          ],
                          [
                            0.7777777777777778,
                            "#fb9f3a"
                          ],
                          [
                            0.8888888888888888,
                            "#fdca26"
                          ],
                          [
                            1,
                            "#f0f921"
                          ]
                        ],
                        "type": "heatmap"
                      }
                    ],
                    "heatmapgl": [
                      {
                        "colorbar": {
                          "outlinewidth": 0,
                          "ticks": ""
                        },
                        "colorscale": [
                          [
                            0,
                            "#0d0887"
                          ],
                          [
                            0.1111111111111111,
                            "#46039f"
                          ],
                          [
                            0.2222222222222222,
                            "#7201a8"
                          ],
                          [
                            0.3333333333333333,
                            "#9c179e"
                          ],
                          [
                            0.4444444444444444,
                            "#bd3786"
                          ],
                          [
                            0.5555555555555556,
                            "#d8576b"
                          ],
                          [
                            0.6666666666666666,
                            "#ed7953"
                          ],
                          [
                            0.7777777777777778,
                            "#fb9f3a"
                          ],
                          [
                            0.8888888888888888,
                            "#fdca26"
                          ],
                          [
                            1,
                            "#f0f921"
                          ]
                        ],
                        "type": "heatmapgl"
                      }
                    ],
                    "histogram": [
                      {
                        "marker": {
                          "pattern": {
                            "fillmode": "overlay",
                            "size": 10,
                            "solidity": 0.2
                          }
                        },
                        "type": "histogram"
                      }
                    ],
                    "histogram2d": [
                      {
                        "colorbar": {
                          "outlinewidth": 0,
                          "ticks": ""
                        },
                        "colorscale": [
                          [
                            0,
                            "#0d0887"
                          ],
                          [
                            0.1111111111111111,
                            "#46039f"
                          ],
                          [
                            0.2222222222222222,
                            "#7201a8"
                          ],
                          [
                            0.3333333333333333,
                            "#9c179e"
                          ],
                          [
                            0.4444444444444444,
                            "#bd3786"
                          ],
                          [
                            0.5555555555555556,
                            "#d8576b"
                          ],
                          [
                            0.6666666666666666,
                            "#ed7953"
                          ],
                          [
                            0.7777777777777778,
                            "#fb9f3a"
                          ],
                          [
                            0.8888888888888888,
                            "#fdca26"
                          ],
                          [
                            1,
                            "#f0f921"
                          ]
                        ],
                        "type": "histogram2d"
                      }
                    ],
                    "histogram2dcontour": [
                      {
                        "colorbar": {
                          "outlinewidth": 0,
                          "ticks": ""
                        },
                        "colorscale": [
                          [
                            0,
                            "#0d0887"
                          ],
                          [
                            0.1111111111111111,
                            "#46039f"
                          ],
                          [
                            0.2222222222222222,
                            "#7201a8"
                          ],
                          [
                            0.3333333333333333,
                            "#9c179e"
                          ],
                          [
                            0.4444444444444444,
                            "#bd3786"
                          ],
                          [
                            0.5555555555555556,
                            "#d8576b"
                          ],
                          [
                            0.6666666666666666,
                            "#ed7953"
                          ],
                          [
                            0.7777777777777778,
                            "#fb9f3a"
                          ],
                          [
                            0.8888888888888888,
                            "#fdca26"
                          ],
                          [
                            1,
                            "#f0f921"
                          ]
                        ],
                        "type": "histogram2dcontour"
                      }
                    ],
                    "mesh3d": [
                      {
                        "colorbar": {
                          "outlinewidth": 0,
                          "ticks": ""
                        },
                        "type": "mesh3d"
                      }
                    ],
                    "parcoords": [
                      {
                        "line": {
                          "colorbar": {
                            "outlinewidth": 0,
                            "ticks": ""
                          }
                        },
                        "type": "parcoords"
                      }
                    ],
                    "pie": [
                      {
                        "automargin": true,
                        "type": "pie"
                      }
                    ],
                    "scatter": [
                      {
                        "fillpattern": {
                          "fillmode": "overlay",
                          "size": 10,
                          "solidity": 0.2
                        },
                        "type": "scatter"
                      }
                    ],
                    "scatter3d": [
                      {
                        "line": {
                          "colorbar": {
                            "outlinewidth": 0,
                            "ticks": ""
                          }
                        },
                        "marker": {
                          "colorbar": {
                            "outlinewidth": 0,
                            "ticks": ""
                          }
                        },
                        "type": "scatter3d"
                      }
                    ],
                    "scattercarpet": [
                      {
                        "marker": {
                          "colorbar": {
                            "outlinewidth": 0,
                            "ticks": ""
                          }
                        },
                        "type": "scattercarpet"
                      }
                    ],
                    "scattergeo": [
                      {
                        "marker": {
                          "colorbar": {
                            "outlinewidth": 0,
                            "ticks": ""
                          }
                        },
                        "type": "scattergeo"
                      }
                    ],
                    "scattergl": [
                      {
                        "marker": {
                          "colorbar": {
                            "outlinewidth": 0,
                            "ticks": ""
                          }
                        },
                        "type": "scattergl"
                      }
                    ],
                    "scattermapbox": [
                      {
                        "marker": {
                          "colorbar": {
                            "outlinewidth": 0,
                            "ticks": ""
                          }
                        },
                        "type": "scattermapbox"
                      }
                    ],
                    "scatterpolar": [
                      {
                        "marker": {
                          "colorbar": {
                            "outlinewidth": 0,
                            "ticks": ""
                          }
                        },
                        "type": "scatterpolar"
                      }
                    ],
                    "scatterpolargl": [
                      {
                        "marker": {
                          "colorbar": {
                            "outlinewidth": 0,
                            "ticks": ""
                          }
                        },
                        "type": "scatterpolargl"
                      }
                    ],
                    "scatterternary": [
                      {
                        "marker": {
                          "colorbar": {
                            "outlinewidth": 0,
                            "ticks": ""
                          }
                        },
                        "type": "scatterternary"
                      }
                    ],
                    "surface": [
                      {
                        "colorbar": {
                          "outlinewidth": 0,
                          "ticks": ""
                        },
                        "colorscale": [
                          [
                            0,
                            "#0d0887"
                          ],
                          [
                            0.1111111111111111,
                            "#46039f"
                          ],
                          [
                            0.2222222222222222,
                            "#7201a8"
                          ],
                          [
                            0.3333333333333333,
                            "#9c179e"
                          ],
                          [
                            0.4444444444444444,
                            "#bd3786"
                          ],
                          [
                            0.5555555555555556,
                            "#d8576b"
                          ],
                          [
                            0.6666666666666666,
                            "#ed7953"
                          ],
                          [
                            0.7777777777777778,
                            "#fb9f3a"
                          ],
                          [
                            0.8888888888888888,
                            "#fdca26"
                          ],
                          [
                            1,
                            "#f0f921"
                          ]
                        ],
                        "type": "surface"
                      }
                    ],
                    "table": [
                      {
                        "cells": {
                          "fill": {
                            "color": "#EBF0F8"
                          },
                          "line": {
                            "color": "white"
                          }
                        },
                        "header": {
                          "fill": {
                            "color": "#C8D4E3"
                          },
                          "line": {
                            "color": "white"
                          }
                        },
                        "type": "table"
                      }
                    ]
                  },
                  "layout": {
                    "annotationdefaults": {
                      "arrowcolor": "#2a3f5f",
                      "arrowhead": 0,
                      "arrowwidth": 1
                    },
                    "autotypenumbers": "strict",
                    "coloraxis": {
                      "colorbar": {
                        "outlinewidth": 0,
                        "ticks": ""
                      }
                    },
                    "colorscale": {
                      "diverging": [
                        [
                          0,
                          "#8e0152"
                        ],
                        [
                          0.1,
                          "#c51b7d"
                        ],
                        [
                          0.2,
                          "#de77ae"
                        ],
                        [
                          0.3,
                          "#f1b6da"
                        ],
                        [
                          0.4,
                          "#fde0ef"
                        ],
                        [
                          0.5,
                          "#f7f7f7"
                        ],
                        [
                          0.6,
                          "#e6f5d0"
                        ],
                        [
                          0.7,
                          "#b8e186"
                        ],
                        [
                          0.8,
                          "#7fbc41"
                        ],
                        [
                          0.9,
                          "#4d9221"
                        ],
                        [
                          1,
                          "#276419"
                        ]
                      ],
                      "sequential": [
                        [
                          0,
                          "#0d0887"
                        ],
                        [
                          0.1111111111111111,
                          "#46039f"
                        ],
                        [
                          0.2222222222222222,
                          "#7201a8"
                        ],
                        [
                          0.3333333333333333,
                          "#9c179e"
                        ],
                        [
                          0.4444444444444444,
                          "#bd3786"
                        ],
                        [
                          0.5555555555555556,
                          "#d8576b"
                        ],
                        [
                          0.6666666666666666,
                          "#ed7953"
                        ],
                        [
                          0.7777777777777778,
                          "#fb9f3a"
                        ],
                        [
                          0.8888888888888888,
                          "#fdca26"
                        ],
                        [
                          1,
                          "#f0f921"
                        ]
                      ],
                      "sequentialminus": [
                        [
                          0,
                          "#0d0887"
                        ],
                        [
                          0.1111111111111111,
                          "#46039f"
                        ],
                        [
                          0.2222222222222222,
                          "#7201a8"
                        ],
                        [
                          0.3333333333333333,
                          "#9c179e"
                        ],
                        [
                          0.4444444444444444,
                          "#bd3786"
                        ],
                        [
                          0.5555555555555556,
                          "#d8576b"
                        ],
                        [
                          0.6666666666666666,
                          "#ed7953"
                        ],
                        [
                          0.7777777777777778,
                          "#fb9f3a"
                        ],
                        [
                          0.8888888888888888,
                          "#fdca26"
                        ],
                        [
                          1,
                          "#f0f921"
                        ]
                      ]
                    },
                    "colorway": [
                      "#636efa",
                      "#EF553B",
                      "#00cc96",
                      "#ab63fa",
                      "#FFA15A",
                      "#19d3f3",
                      "#FF6692",
                      "#B6E880",
                      "#FF97FF",
                      "#FECB52"
                    ],
                    "font": {
                      "color": "#2a3f5f"
                    },
                    "geo": {
                      "bgcolor": "white",
                      "lakecolor": "white",
                      "landcolor": "#E5ECF6",
                      "showlakes": true,
                      "showland": true,
                      "subunitcolor": "white"
                    },
                    "hoverlabel": {
                      "align": "left"
                    },
                    "hovermode": "closest",
                    "mapbox": {
                      "style": "light"
                    },
                    "paper_bgcolor": "white",
                    "plot_bgcolor": "#E5ECF6",
                    "polar": {
                      "angularaxis": {
                        "gridcolor": "white",
                        "linecolor": "white",
                        "ticks": ""
                      },
                      "bgcolor": "#E5ECF6",
                      "radialaxis": {
                        "gridcolor": "white",
                        "linecolor": "white",
                        "ticks": ""
                      }
                    },
                    "scene": {
                      "xaxis": {
                        "backgroundcolor": "#E5ECF6",
                        "gridcolor": "white",
                        "gridwidth": 2,
                        "linecolor": "white",
                        "showbackground": true,
                        "ticks": "",
                        "zerolinecolor": "white"
                      },
                      "yaxis": {
                        "backgroundcolor": "#E5ECF6",
                        "gridcolor": "white",
                        "gridwidth": 2,
                        "linecolor": "white",
                        "showbackground": true,
                        "ticks": "",
                        "zerolinecolor": "white"
                      },
                      "zaxis": {
                        "backgroundcolor": "#E5ECF6",
                        "gridcolor": "white",
                        "gridwidth": 2,
                        "linecolor": "white",
                        "showbackground": true,
                        "ticks": "",
                        "zerolinecolor": "white"
                      }
                    },
                    "shapedefaults": {
                      "line": {
                        "color": "#2a3f5f"
                      }
                    },
                    "ternary": {
                      "aaxis": {
                        "gridcolor": "white",
                        "linecolor": "white",
                        "ticks": ""
                      },
                      "baxis": {
                        "gridcolor": "white",
                        "linecolor": "white",
                        "ticks": ""
                      },
                      "bgcolor": "#E5ECF6",
                      "caxis": {
                        "gridcolor": "white",
                        "linecolor": "white",
                        "ticks": ""
                      }
                    },
                    "title": {
                      "x": 0.05
                    },
                    "xaxis": {
                      "automargin": true,
                      "gridcolor": "white",
                      "linecolor": "white",
                      "ticks": "",
                      "title": {
                        "standoff": 15
                      },
                      "zerolinecolor": "white",
                      "zerolinewidth": 2
                    },
                    "yaxis": {
                      "automargin": true,
                      "gridcolor": "white",
                      "linecolor": "white",
                      "ticks": "",
                      "title": {
                        "standoff": 15
                      },
                      "zerolinecolor": "white",
                      "zerolinewidth": 2
                    }
                  }
                },
                "title": {
                  "text": "Total Sales by State, Product, and Sales Method"
                },
                "updatemenus": [
                  {
                    "buttons": [
                      {
                        "args": [
                          {
                            "visible": [
                              true,
                              true,
                              true,
                              false,
                              false,
                              false,
                              false,
                              false,
                              false,
                              false,
                              false,
                              false,
                              false,
                              false,
                              false,
                              false,
                              false,
                              false
                            ]
                          }
                        ],
                        "label": "Men's Street Footwear",
                        "method": "update"
                      },
                      {
                        "args": [
                          {
                            "visible": [
                              false,
                              false,
                              false,
                              true,
                              true,
                              true,
                              false,
                              false,
                              false,
                              false,
                              false,
                              false,
                              false,
                              false,
                              false,
                              false,
                              false,
                              false
                            ]
                          }
                        ],
                        "label": "Men's Athletic Footwear",
                        "method": "update"
                      },
                      {
                        "args": [
                          {
                            "visible": [
                              false,
                              false,
                              false,
                              false,
                              false,
                              false,
                              true,
                              true,
                              true,
                              false,
                              false,
                              false,
                              false,
                              false,
                              false,
                              false,
                              false,
                              false
                            ]
                          }
                        ],
                        "label": "Women's Street Footwear",
                        "method": "update"
                      },
                      {
                        "args": [
                          {
                            "visible": [
                              false,
                              false,
                              false,
                              false,
                              false,
                              false,
                              false,
                              false,
                              false,
                              true,
                              true,
                              true,
                              false,
                              false,
                              false,
                              false,
                              false,
                              false
                            ]
                          }
                        ],
                        "label": "Women's Athletic Footwear",
                        "method": "update"
                      },
                      {
                        "args": [
                          {
                            "visible": [
                              false,
                              false,
                              false,
                              false,
                              false,
                              false,
                              false,
                              false,
                              false,
                              false,
                              false,
                              false,
                              true,
                              true,
                              true,
                              false,
                              false,
                              false
                            ]
                          }
                        ],
                        "label": "Men's Apparel",
                        "method": "update"
                      },
                      {
                        "args": [
                          {
                            "visible": [
                              false,
                              false,
                              false,
                              false,
                              false,
                              false,
                              false,
                              false,
                              false,
                              false,
                              false,
                              false,
                              false,
                              false,
                              false,
                              true,
                              true,
                              true
                            ]
                          }
                        ],
                        "label": "Women's Apparel",
                        "method": "update"
                      }
                    ],
                    "direction": "down",
                    "showactive": true,
                    "x": 0.25,
                    "xanchor": "left",
                    "y": 1.15,
                    "yanchor": "top"
                  },
                  {
                    "buttons": [
                      {
                        "args": [
                          {
                            "visible": [
                              true,
                              false,
                              false,
                              true,
                              false,
                              false,
                              true,
                              false,
                              false,
                              true,
                              false,
                              false,
                              true,
                              false,
                              false,
                              true,
                              false,
                              false
                            ]
                          }
                        ],
                        "label": "In-store",
                        "method": "update"
                      },
                      {
                        "args": [
                          {
                            "visible": [
                              false,
                              true,
                              false,
                              false,
                              true,
                              false,
                              false,
                              true,
                              false,
                              false,
                              true,
                              false,
                              false,
                              true,
                              false,
                              false,
                              true,
                              false
                            ]
                          }
                        ],
                        "label": "Outlet",
                        "method": "update"
                      },
                      {
                        "args": [
                          {
                            "visible": [
                              false,
                              false,
                              true,
                              false,
                              false,
                              true,
                              false,
                              false,
                              true,
                              false,
                              false,
                              true,
                              false,
                              false,
                              true,
                              false,
                              false,
                              true
                            ]
                          }
                        ],
                        "label": "Online",
                        "method": "update"
                      }
                    ],
                    "direction": "down",
                    "showactive": true,
                    "x": 0.75,
                    "xanchor": "left",
                    "y": 1.15,
                    "yanchor": "top"
                  }
                ]
              }
            }
          },
          "metadata": {},
          "output_type": "display_data"
        }
      ],
      "source": [
        "# Removing currency symbols and converting 'Total Sales' to numeric\n",
        "data['Total Sales'] = data['Total Sales'].replace('[\\$,]', '', regex=True).astype(float)\n",
        "\n",
        "# Initialize the figure\n",
        "fig = go.Figure()\n",
        "\n",
        "# List of unique products and sales methods\n",
        "products = data['Product'].unique()\n",
        "sales_methods = data['Sales Method'].unique()\n",
        "\n",
        "# Add traces for each combination of product and sales method\n",
        "for product in products:\n",
        "    for method in sales_methods:\n",
        "        filtered_df = data[(data['Product'] == product) & (data['Sales Method'] == method)]\n",
        "        state_sales = filtered_df.groupby('State Abbreviation')['Total Sales'].sum().reset_index()\n",
        "\n",
        "        fig.add_trace(\n",
        "            go.Choropleth(\n",
        "                locations=state_sales['State Abbreviation'],\n",
        "                z=state_sales['Total Sales'],\n",
        "                locationmode='USA-states',\n",
        "                colorscale='Viridis',\n",
        "                name=f\"{product} - {method}\",\n",
        "                showscale=True,\n",
        "                visible=False  # Initially, all traces are hidden\n",
        "            )\n",
        "        )\n",
        "\n",
        "# Update layout with dropdown menus\n",
        "product_buttons = [\n",
        "    {'label': product, 'method': 'update', 'args': [{'visible': [trace.name.startswith(product) for trace in fig.data]}]}\n",
        "    for product in products\n",
        "]\n",
        "\n",
        "sales_method_buttons = [\n",
        "    {'label': method, 'method': 'update', 'args': [{'visible': [method in trace.name for trace in fig.data]}]}\n",
        "    for method in sales_methods\n",
        "]\n",
        "\n",
        "fig.update_layout(\n",
        "    updatemenus=[\n",
        "        {'buttons': product_buttons, 'direction': 'down', 'showactive': True, 'x': 0.25, 'xanchor': 'left', 'y': 1.15, 'yanchor': 'top'},\n",
        "        {'buttons': sales_method_buttons, 'direction': 'down', 'showactive': True, 'x': 0.75, 'xanchor': 'left', 'y': 1.15, 'yanchor': 'top'}\n",
        "    ],\n",
        "    geo=dict(scope='usa'),\n",
        "    title=\"Total Sales by State, Product, and Sales Method\"\n",
        ")\n",
        "\n",
        "# Initially displaying the first product and first sales method\n",
        "if fig.data:\n",
        "    fig.data[0].visible = True\n",
        "\n",
        "fig.show()"
      ]
    },
    {
      "cell_type": "code",
      "execution_count": null,
      "metadata": {
        "id": "O6aSk1AdVrPe",
        "outputId": "2ef2983e-e64b-43b2-c222-ea1be325756f"
      },
      "outputs": [
        {
          "data": {
            "text/html": [
              "<div>\n",
              "<style scoped>\n",
              "    .dataframe tbody tr th:only-of-type {\n",
              "        vertical-align: middle;\n",
              "    }\n",
              "\n",
              "    .dataframe tbody tr th {\n",
              "        vertical-align: top;\n",
              "    }\n",
              "\n",
              "    .dataframe thead th {\n",
              "        text-align: right;\n",
              "    }\n",
              "</style>\n",
              "<table border=\"1\" class=\"dataframe\">\n",
              "  <thead>\n",
              "    <tr style=\"text-align: right;\">\n",
              "      <th></th>\n",
              "      <th>Total Sales</th>\n",
              "      <th>Operating Profit</th>\n",
              "      <th>Operating Margin</th>\n",
              "    </tr>\n",
              "    <tr>\n",
              "      <th>Sales Method</th>\n",
              "      <th></th>\n",
              "      <th></th>\n",
              "      <th></th>\n",
              "    </tr>\n",
              "  </thead>\n",
              "  <tbody>\n",
              "    <tr>\n",
              "      <th>In-store</th>\n",
              "      <td>356643750.0</td>\n",
              "      <td>1.275913e+08</td>\n",
              "      <td>0.357756</td>\n",
              "    </tr>\n",
              "    <tr>\n",
              "      <th>Online</th>\n",
              "      <td>247672882.0</td>\n",
              "      <td>9.655518e+07</td>\n",
              "      <td>0.389850</td>\n",
              "    </tr>\n",
              "    <tr>\n",
              "      <th>Outlet</th>\n",
              "      <td>295585493.0</td>\n",
              "      <td>1.079883e+08</td>\n",
              "      <td>0.365337</td>\n",
              "    </tr>\n",
              "  </tbody>\n",
              "</table>\n",
              "</div>"
            ],
            "text/plain": [
              "              Total Sales  Operating Profit  Operating Margin\n",
              "Sales Method                                                 \n",
              "In-store      356643750.0      1.275913e+08          0.357756\n",
              "Online        247672882.0      9.655518e+07          0.389850\n",
              "Outlet        295585493.0      1.079883e+08          0.365337"
            ]
          },
          "execution_count": 126,
          "metadata": {},
          "output_type": "execute_result"
        }
      ],
      "source": [
        "#Which method is best\n",
        "# Segmenting and aggregating data by 'Sales Method'\n",
        "sales_method_grouped = data.groupby('Sales Method').agg({'Total Sales': 'sum', 'Operating Profit': 'sum'})\n",
        "\n",
        "# Calculating the Operating Margin for each sales method\n",
        "sales_method_grouped['Operating Margin'] = sales_method_grouped['Operating Profit'] / sales_method_grouped['Total Sales']\n",
        "\n",
        "sales_method_grouped"
      ]
    },
    {
      "cell_type": "markdown",
      "metadata": {
        "id": "8VZdp7xmVrPe"
      },
      "source": [
        "#### Interpreting the above table in words for easier understanding.\n",
        "\n",
        "1.\tTotal Sales:\n",
        "•\tIn-store: $356,643,750\n",
        "•\tOnline: $247,672,882\n",
        "•\tOutlet: $295,585,493\n",
        "In-store sales have the highest total sales, followed by outlet and then online sales.\n",
        "\n",
        "2.\tOperating Profit:\n",
        "•\tIn-store: $127,591,300 (approximately)\n",
        "•\tOnline: $96,555,180 (approximately)\n",
        "•\tOutlet: $107,988,300 (approximately)\n",
        "Similar to total sales, in-store sales lead in operating profit, followed by outlet and then online.\n",
        "\n",
        "3.\tOperating Margin (Operating Profit divided by Total Sales):\n",
        "•\tIn-store: 0.357756 (or 35.78%)\n",
        "•\tOnline: 0.389850 (or 38.99%)\n",
        "•\tOutlet: 0.365337 (or 36.53%)\n",
        "\n",
        "Here, while in-store sales have the highest total sales and profit, online sales have the highest operating margin, indicating a higher profitability relative to the sales generated.\n",
        "Insights:\n",
        "•\tIn terms of Total Sales and Operating Profit: In-store sales method is the most effective, generating the highest total sales and operating profit.\n",
        "•\tIn terms of Operating Margin: Online sales are the most effective, indicating that although the total sales and operating profit are lower than in-store, the profitability relative to the sales generated is higher.\n",
        "\n",
        "When deciding which sales method is more effective, it depends on what the business prioritizes. If the focus is on maximizing total revenue and profit, then in-store sales are more effective. However, if the focus is on efficiency in terms of profit generated per dollar of sales, then online sales are more effective.\n"
      ]
    },
    {
      "cell_type": "markdown",
      "metadata": {
        "id": "vEk19oc9VrPf"
      },
      "source": [
        "## 5. Price Optimization: Is there a specific price range that achieves better sales than others?"
      ]
    },
    {
      "cell_type": "code",
      "execution_count": null,
      "metadata": {
        "id": "Rh1iFm6rVrPf",
        "outputId": "01cf70d9-2304-4fdc-b78e-a13db79a987e"
      },
      "outputs": [
        {
          "data": {
            "text/html": [
              "<div>\n",
              "<style scoped>\n",
              "    .dataframe tbody tr th:only-of-type {\n",
              "        vertical-align: middle;\n",
              "    }\n",
              "\n",
              "    .dataframe tbody tr th {\n",
              "        vertical-align: top;\n",
              "    }\n",
              "\n",
              "    .dataframe thead th {\n",
              "        text-align: right;\n",
              "    }\n",
              "</style>\n",
              "<table border=\"1\" class=\"dataframe\">\n",
              "  <thead>\n",
              "    <tr style=\"text-align: right;\">\n",
              "      <th></th>\n",
              "      <th>Price Range</th>\n",
              "      <th>Total Sales</th>\n",
              "    </tr>\n",
              "  </thead>\n",
              "  <tbody>\n",
              "    <tr>\n",
              "      <th>4</th>\n",
              "      <td>(40, 50]</td>\n",
              "      <td>220666307.0</td>\n",
              "    </tr>\n",
              "    <tr>\n",
              "      <th>5</th>\n",
              "      <td>(50, 60]</td>\n",
              "      <td>210865002.0</td>\n",
              "    </tr>\n",
              "    <tr>\n",
              "      <th>6</th>\n",
              "      <td>(60, 70]</td>\n",
              "      <td>190679285.0</td>\n",
              "    </tr>\n",
              "    <tr>\n",
              "      <th>3</th>\n",
              "      <td>(30, 40]</td>\n",
              "      <td>134726187.0</td>\n",
              "    </tr>\n",
              "    <tr>\n",
              "      <th>7</th>\n",
              "      <td>(70, 80]</td>\n",
              "      <td>52787579.0</td>\n",
              "    </tr>\n",
              "    <tr>\n",
              "      <th>8</th>\n",
              "      <td>(80, 90]</td>\n",
              "      <td>33547420.0</td>\n",
              "    </tr>\n",
              "    <tr>\n",
              "      <th>2</th>\n",
              "      <td>(20, 30]</td>\n",
              "      <td>29636023.0</td>\n",
              "    </tr>\n",
              "    <tr>\n",
              "      <th>9</th>\n",
              "      <td>(90, 100]</td>\n",
              "      <td>14468685.0</td>\n",
              "    </tr>\n",
              "    <tr>\n",
              "      <th>1</th>\n",
              "      <td>(10, 20]</td>\n",
              "      <td>6574478.0</td>\n",
              "    </tr>\n",
              "    <tr>\n",
              "      <th>11</th>\n",
              "      <td>(110, 120]</td>\n",
              "      <td>3080000.0</td>\n",
              "    </tr>\n",
              "    <tr>\n",
              "      <th>10</th>\n",
              "      <td>(100, 110]</td>\n",
              "      <td>2785706.0</td>\n",
              "    </tr>\n",
              "    <tr>\n",
              "      <th>0</th>\n",
              "      <td>(0, 10]</td>\n",
              "      <td>85453.0</td>\n",
              "    </tr>\n",
              "    <tr>\n",
              "      <th>12</th>\n",
              "      <td>(120, 130]</td>\n",
              "      <td>0.0</td>\n",
              "    </tr>\n",
              "  </tbody>\n",
              "</table>\n",
              "</div>"
            ],
            "text/plain": [
              "   Price Range  Total Sales\n",
              "4     (40, 50]  220666307.0\n",
              "5     (50, 60]  210865002.0\n",
              "6     (60, 70]  190679285.0\n",
              "3     (30, 40]  134726187.0\n",
              "7     (70, 80]   52787579.0\n",
              "8     (80, 90]   33547420.0\n",
              "2     (20, 30]   29636023.0\n",
              "9    (90, 100]   14468685.0\n",
              "1     (10, 20]    6574478.0\n",
              "11  (110, 120]    3080000.0\n",
              "10  (100, 110]    2785706.0\n",
              "0      (0, 10]      85453.0\n",
              "12  (120, 130]          0.0"
            ]
          },
          "execution_count": 127,
          "metadata": {},
          "output_type": "execute_result"
        }
      ],
      "source": [
        "# Define the price bins\n",
        "bins = [0, 10, 20, 30, 40, 50, 60, 70, 80, 90, 100, 110, 120, 130]\n",
        "\n",
        "# Create a new column for the price range\n",
        "data['Price Range'] = pd.cut(data['Price per Unit'], bins)\n",
        "\n",
        "# Group by the price range and sum the total sales\n",
        "sales_by_price_range = data.groupby('Price Range')['Total Sales'].sum().reset_index()\n",
        "\n",
        "# Sorting the results to see which price range has the highest sales\n",
        "sorted_sales_by_price_range = sales_by_price_range.sort_values(by='Total Sales', ascending=False)\n",
        "\n",
        "# Results are sorted based on Total Sales\n",
        "sorted_sales_by_price_range"
      ]
    },
    {
      "cell_type": "markdown",
      "metadata": {
        "id": "vPGb2_1AVrPf"
      },
      "source": [
        "#### Interpreting the above table in words for easier understanding\n",
        "1.\tThe highest total sales are in the price range of $40 to $50 ($220,666,307), indicating that products priced within this range are very popular or in high demand.\n",
        "2.\tThe next highest sales are in the price ranges of $50 to $60 ($210,865,002) and $60 to $70 ($190,679,285). These ranges also appear to be effective in terms of sales.\n",
        "3.\tAs the price increases beyond $70, there is a noticeable drop in total sales. For instance, the range $70 to $80 sees a significant decrease to $52,787,579.\n",
        "4.\tThe lowest sales figures are observed in the extreme low end ($0 to $10) and high end ($110 to $130) of the price spectrum.\n",
        "\n",
        "#### Insights:\n",
        "•\tProducts priced in the mid-range (specifically between $40 and $70) seem to be achieving the best sales. This could indicate a sweet spot for pricing where customers are more willing to purchase.\n",
        "\n",
        "•\tVery low-priced products (below $20) and higher-priced products (above $90) show significantly lower sales. This might be due to various factors like perceived value, product quality, target customer segment, or availability.\n",
        "\n",
        "•\tThe $120 to $130 range shows no sales, indicating either a lack of products in this range or no demand for products at this price point.\n",
        "\n",
        "#### Conclusion:\n",
        "•\tA specific price range, notably between $40 and $70, does achieve better sales compared to other ranges.\n",
        "\n",
        "•\tUnderstanding the reasons behind this trend would require additional qualitative analysis, such as customer preferences, product types within each price range, market competition, and promotional strategies.\n",
        "\n",
        "•\tThis insight can be useful for pricing strategies, inventory management, and marketing campaigns, focusing more on the price ranges that have shown higher sales volumes.\n"
      ]
    },
    {
      "cell_type": "markdown",
      "metadata": {
        "id": "nv2d-1YYVrPf"
      },
      "source": []
    },
    {
      "cell_type": "markdown",
      "metadata": {
        "id": "BDXSq2zdVrPf"
      },
      "source": [
        "## 6. Product Portfolio Optimization: Determine which products are most profitable, segmented by location."
      ]
    },
    {
      "cell_type": "code",
      "execution_count": null,
      "metadata": {
        "id": "QLt4FCzhVrPf",
        "outputId": "5f8dc0e1-35f6-414a-a5db-8fed2d8de18f"
      },
      "outputs": [
        {
          "data": {
            "text/html": [
              "<div>\n",
              "<style scoped>\n",
              "    .dataframe tbody tr th:only-of-type {\n",
              "        vertical-align: middle;\n",
              "    }\n",
              "\n",
              "    .dataframe tbody tr th {\n",
              "        vertical-align: top;\n",
              "    }\n",
              "\n",
              "    .dataframe thead th {\n",
              "        text-align: right;\n",
              "    }\n",
              "</style>\n",
              "<table border=\"1\" class=\"dataframe\">\n",
              "  <thead>\n",
              "    <tr style=\"text-align: right;\">\n",
              "      <th></th>\n",
              "      <th>City</th>\n",
              "      <th>Product</th>\n",
              "      <th>Operating Profit</th>\n",
              "      <th>Total Sales</th>\n",
              "      <th>Profit Margin</th>\n",
              "    </tr>\n",
              "  </thead>\n",
              "  <tbody>\n",
              "    <tr>\n",
              "      <th>3</th>\n",
              "      <td>Albany</td>\n",
              "      <td>Women's Apparel</td>\n",
              "      <td>2343150.19</td>\n",
              "      <td>4779109.0</td>\n",
              "      <td>0.490290</td>\n",
              "    </tr>\n",
              "    <tr>\n",
              "      <th>2</th>\n",
              "      <td>Albany</td>\n",
              "      <td>Men's Street Footwear</td>\n",
              "      <td>2649927.25</td>\n",
              "      <td>5773987.0</td>\n",
              "      <td>0.458942</td>\n",
              "    </tr>\n",
              "    <tr>\n",
              "      <th>0</th>\n",
              "      <td>Albany</td>\n",
              "      <td>Men's Apparel</td>\n",
              "      <td>1354932.08</td>\n",
              "      <td>3873553.0</td>\n",
              "      <td>0.349791</td>\n",
              "    </tr>\n",
              "    <tr>\n",
              "      <th>1</th>\n",
              "      <td>Albany</td>\n",
              "      <td>Men's Athletic Footwear</td>\n",
              "      <td>1329200.59</td>\n",
              "      <td>3829596.0</td>\n",
              "      <td>0.347086</td>\n",
              "    </tr>\n",
              "    <tr>\n",
              "      <th>4</th>\n",
              "      <td>Albany</td>\n",
              "      <td>Women's Athletic Footwear</td>\n",
              "      <td>908094.68</td>\n",
              "      <td>2973011.0</td>\n",
              "      <td>0.305446</td>\n",
              "    </tr>\n",
              "    <tr>\n",
              "      <th>...</th>\n",
              "      <td>...</td>\n",
              "      <td>...</td>\n",
              "      <td>...</td>\n",
              "      <td>...</td>\n",
              "      <td>...</td>\n",
              "    </tr>\n",
              "    <tr>\n",
              "      <th>309</th>\n",
              "      <td>Wilmington</td>\n",
              "      <td>Women's Apparel</td>\n",
              "      <td>1016327.95</td>\n",
              "      <td>2520405.0</td>\n",
              "      <td>0.403240</td>\n",
              "    </tr>\n",
              "    <tr>\n",
              "      <th>310</th>\n",
              "      <td>Wilmington</td>\n",
              "      <td>Women's Athletic Footwear</td>\n",
              "      <td>500967.12</td>\n",
              "      <td>1242580.0</td>\n",
              "      <td>0.403167</td>\n",
              "    </tr>\n",
              "    <tr>\n",
              "      <th>311</th>\n",
              "      <td>Wilmington</td>\n",
              "      <td>Women's Street Footwear</td>\n",
              "      <td>605627.89</td>\n",
              "      <td>1502297.0</td>\n",
              "      <td>0.403135</td>\n",
              "    </tr>\n",
              "    <tr>\n",
              "      <th>308</th>\n",
              "      <td>Wilmington</td>\n",
              "      <td>Men's Street Footwear</td>\n",
              "      <td>1244055.88</td>\n",
              "      <td>3522197.0</td>\n",
              "      <td>0.353205</td>\n",
              "    </tr>\n",
              "    <tr>\n",
              "      <th>307</th>\n",
              "      <td>Wilmington</td>\n",
              "      <td>Men's Athletic Footwear</td>\n",
              "      <td>664729.64</td>\n",
              "      <td>1884159.0</td>\n",
              "      <td>0.352799</td>\n",
              "    </tr>\n",
              "  </tbody>\n",
              "</table>\n",
              "<p>260 rows × 5 columns</p>\n",
              "</div>"
            ],
            "text/plain": [
              "           City                    Product  Operating Profit  Total Sales  \\\n",
              "3        Albany            Women's Apparel        2343150.19    4779109.0   \n",
              "2        Albany      Men's Street Footwear        2649927.25    5773987.0   \n",
              "0        Albany              Men's Apparel        1354932.08    3873553.0   \n",
              "1        Albany    Men's Athletic Footwear        1329200.59    3829596.0   \n",
              "4        Albany  Women's Athletic Footwear         908094.68    2973011.0   \n",
              "..          ...                        ...               ...          ...   \n",
              "309  Wilmington            Women's Apparel        1016327.95    2520405.0   \n",
              "310  Wilmington  Women's Athletic Footwear         500967.12    1242580.0   \n",
              "311  Wilmington    Women's Street Footwear         605627.89    1502297.0   \n",
              "308  Wilmington      Men's Street Footwear        1244055.88    3522197.0   \n",
              "307  Wilmington    Men's Athletic Footwear         664729.64    1884159.0   \n",
              "\n",
              "     Profit Margin  \n",
              "3         0.490290  \n",
              "2         0.458942  \n",
              "0         0.349791  \n",
              "1         0.347086  \n",
              "4         0.305446  \n",
              "..             ...  \n",
              "309       0.403240  \n",
              "310       0.403167  \n",
              "311       0.403135  \n",
              "308       0.353205  \n",
              "307       0.352799  \n",
              "\n",
              "[260 rows x 5 columns]"
            ]
          },
          "execution_count": 128,
          "metadata": {},
          "output_type": "execute_result"
        }
      ],
      "source": [
        "# Grouping data by location and product\n",
        "grouped_data = data.groupby(['City', 'Product']).agg({'Operating Profit': 'sum', 'Total Sales': 'sum'}).reset_index()\n",
        "\n",
        "# Calculating Profit Margin\n",
        "grouped_data['Profit Margin'] = grouped_data['Operating Profit'] / grouped_data['Total Sales']\n",
        "\n",
        "# Sorting within each location to find the most profitable products\n",
        "grouped_data.sort_values(by=['City', 'Profit Margin'], ascending=[True, False], inplace=True)\n",
        "\n",
        "# Optionally, display the top 5 most profitable products for each city\n",
        "top_products_by_city = grouped_data.groupby('City').head(5)\n",
        "\n",
        "top_products_by_city"
      ]
    },
    {
      "cell_type": "code",
      "execution_count": null,
      "metadata": {
        "id": "rIvyMSngVrPg",
        "outputId": "b685d044-6dda-4186-ad98-ff125c77857e"
      },
      "outputs": [
        {
          "name": "stdout",
          "output_type": "stream",
          "text": [
            "Best and Worst Performing Cities for Each Product:\n"
          ]
        },
        {
          "data": {
            "text/html": [
              "<div>\n",
              "<style scoped>\n",
              "    .dataframe tbody tr th:only-of-type {\n",
              "        vertical-align: middle;\n",
              "    }\n",
              "\n",
              "    .dataframe tbody tr th {\n",
              "        vertical-align: top;\n",
              "    }\n",
              "\n",
              "    .dataframe thead th {\n",
              "        text-align: right;\n",
              "    }\n",
              "</style>\n",
              "<table border=\"1\" class=\"dataframe\">\n",
              "  <thead>\n",
              "    <tr style=\"text-align: right;\">\n",
              "      <th></th>\n",
              "      <th>Product</th>\n",
              "      <th>City</th>\n",
              "      <th>Total Sales</th>\n",
              "    </tr>\n",
              "  </thead>\n",
              "  <tbody>\n",
              "    <tr>\n",
              "      <th>0</th>\n",
              "      <td>Men's Apparel</td>\n",
              "      <td>New York</td>\n",
              "      <td>6835166.0</td>\n",
              "    </tr>\n",
              "    <tr>\n",
              "      <th>1</th>\n",
              "      <td>Men's Apparel</td>\n",
              "      <td>Omaha</td>\n",
              "      <td>530197.0</td>\n",
              "    </tr>\n",
              "    <tr>\n",
              "      <th>2</th>\n",
              "      <td>Men's Athletic Footwear</td>\n",
              "      <td>New York</td>\n",
              "      <td>6301528.0</td>\n",
              "    </tr>\n",
              "    <tr>\n",
              "      <th>3</th>\n",
              "      <td>Men's Athletic Footwear</td>\n",
              "      <td>Omaha</td>\n",
              "      <td>942983.0</td>\n",
              "    </tr>\n",
              "    <tr>\n",
              "      <th>4</th>\n",
              "      <td>Men's Street Footwear</td>\n",
              "      <td>Charleston</td>\n",
              "      <td>9479502.0</td>\n",
              "    </tr>\n",
              "    <tr>\n",
              "      <th>5</th>\n",
              "      <td>Men's Street Footwear</td>\n",
              "      <td>Omaha</td>\n",
              "      <td>2131074.0</td>\n",
              "    </tr>\n",
              "    <tr>\n",
              "      <th>6</th>\n",
              "      <td>Women's Apparel</td>\n",
              "      <td>Charleston</td>\n",
              "      <td>8147789.0</td>\n",
              "    </tr>\n",
              "    <tr>\n",
              "      <th>7</th>\n",
              "      <td>Women's Apparel</td>\n",
              "      <td>Omaha</td>\n",
              "      <td>1202661.0</td>\n",
              "    </tr>\n",
              "    <tr>\n",
              "      <th>8</th>\n",
              "      <td>Women's Athletic Footwear</td>\n",
              "      <td>New York</td>\n",
              "      <td>5201048.0</td>\n",
              "    </tr>\n",
              "    <tr>\n",
              "      <th>9</th>\n",
              "      <td>Women's Athletic Footwear</td>\n",
              "      <td>Omaha</td>\n",
              "      <td>465677.0</td>\n",
              "    </tr>\n",
              "    <tr>\n",
              "      <th>10</th>\n",
              "      <td>Women's Street Footwear</td>\n",
              "      <td>San Francisco</td>\n",
              "      <td>5549840.0</td>\n",
              "    </tr>\n",
              "    <tr>\n",
              "      <th>11</th>\n",
              "      <td>Women's Street Footwear</td>\n",
              "      <td>Omaha</td>\n",
              "      <td>656446.0</td>\n",
              "    </tr>\n",
              "  </tbody>\n",
              "</table>\n",
              "</div>"
            ],
            "text/plain": [
              "                      Product           City  Total Sales\n",
              "0               Men's Apparel       New York    6835166.0\n",
              "1               Men's Apparel          Omaha     530197.0\n",
              "2     Men's Athletic Footwear       New York    6301528.0\n",
              "3     Men's Athletic Footwear          Omaha     942983.0\n",
              "4       Men's Street Footwear     Charleston    9479502.0\n",
              "5       Men's Street Footwear          Omaha    2131074.0\n",
              "6             Women's Apparel     Charleston    8147789.0\n",
              "7             Women's Apparel          Omaha    1202661.0\n",
              "8   Women's Athletic Footwear       New York    5201048.0\n",
              "9   Women's Athletic Footwear          Omaha     465677.0\n",
              "10    Women's Street Footwear  San Francisco    5549840.0\n",
              "11    Women's Street Footwear          Omaha     656446.0"
            ]
          },
          "execution_count": 129,
          "metadata": {},
          "output_type": "execute_result"
        }
      ],
      "source": [
        "# Grouping data by product and city and summing total sales\n",
        "grouped_data = data.groupby(['Product', 'City'])['Total Sales'].sum().reset_index()\n",
        "\n",
        "# For each product, find the city where it performs the best and the worst\n",
        "best_worst_performing_cities = []\n",
        "\n",
        "for product in grouped_data['Product'].unique():\n",
        "    product_data = grouped_data[grouped_data['Product'] == product]\n",
        "    best_city = product_data[product_data['Total Sales'] == product_data['Total Sales'].max()]\n",
        "    worst_city = product_data[product_data['Total Sales'] == product_data['Total Sales'].min()]\n",
        "    best_worst_performing_cities.extend([best_city, worst_city])\n",
        "\n",
        "# Concatenating the results into a single DataFrame\n",
        "best_worst_performing_cities_df = pd.concat(best_worst_performing_cities).reset_index(drop=True)\n",
        "\n",
        "# Display the results\n",
        "print(\"Best and Worst Performing Cities for Each Product:\")\n",
        "best_worst_performing_cities_df"
      ]
    },
    {
      "cell_type": "markdown",
      "metadata": {
        "id": "ybmoyF_YVrPg"
      },
      "source": [
        "### Sales and Profitability Analysis by Location\n",
        "\n",
        "**Profitability Insights:**\n",
        "\n",
        "In Albany, 'Women's Apparel' and 'Men's Street Footwear' are highly profitable, with profit margins around 49% and 46%, respectively.\n",
        "Wilmington shows a different trend with 'Women's Apparel', 'Women's Athletic Footwear', and 'Women's Street Footwear' leading in profitability, each around 40%.\n",
        "\n",
        "**Sales Performance Insights:**\n",
        "\n",
        "New York excels in sales of 'Men's Apparel', 'Men's Athletic Footwear', and 'Women's Athletic Footwear', indicating a strong market for these products.\n",
        "Charleston and San Francisco are top performers for 'Men's Street Footwear' and 'Women's Street Footwear', respectively.\n",
        "Omaha consistently shows the lowest sales across various products, suggesting limited market penetration or demand.\n",
        "\n",
        "**Overall Implications:**\n",
        "\n",
        "Product popularity and profitability vary significantly by city, indicating the need for tailored marketing and sales strategies in different locations.\n",
        "The contrasting trends between cities like Albany, Wilmington, and Omaha highlight diverse consumer preferences, underscoring the importance of a location-specific approach in sales and marketing strategies."
      ]
    },
    {
      "cell_type": "markdown",
      "metadata": {
        "id": "JXEmslADVrPg"
      },
      "source": [
        "## 7. Market Expansion Opportunities: Assess the best and worst performing stores based on their locations."
      ]
    },
    {
      "cell_type": "code",
      "execution_count": null,
      "metadata": {
        "id": "IsziC9H6VrPg",
        "outputId": "1bd6596c-23f2-4b8e-d392-e89ff0a383e1"
      },
      "outputs": [
        {
          "name": "stdout",
          "output_type": "stream",
          "text": [
            "Store Performance by City:\n"
          ]
        },
        {
          "data": {
            "text/html": [
              "<div>\n",
              "<style scoped>\n",
              "    .dataframe tbody tr th:only-of-type {\n",
              "        vertical-align: middle;\n",
              "    }\n",
              "\n",
              "    .dataframe tbody tr th {\n",
              "        vertical-align: top;\n",
              "    }\n",
              "\n",
              "    .dataframe thead th {\n",
              "        text-align: right;\n",
              "    }\n",
              "</style>\n",
              "<table border=\"1\" class=\"dataframe\">\n",
              "  <thead>\n",
              "    <tr style=\"text-align: right;\">\n",
              "      <th></th>\n",
              "      <th>City</th>\n",
              "      <th>Retailer</th>\n",
              "      <th>Total Sales</th>\n",
              "      <th>Operating Profit</th>\n",
              "      <th>Profit Margin</th>\n",
              "    </tr>\n",
              "  </thead>\n",
              "  <tbody>\n",
              "    <tr>\n",
              "      <th>1</th>\n",
              "      <td>Albany</td>\n",
              "      <td>West Gear</td>\n",
              "      <td>20735165.0</td>\n",
              "      <td>8062399.80</td>\n",
              "      <td>0.388827</td>\n",
              "    </tr>\n",
              "    <tr>\n",
              "      <th>0</th>\n",
              "      <td>Albany</td>\n",
              "      <td>Kohl's</td>\n",
              "      <td>3692639.0</td>\n",
              "      <td>1367451.11</td>\n",
              "      <td>0.370318</td>\n",
              "    </tr>\n",
              "    <tr>\n",
              "      <th>2</th>\n",
              "      <td>Albuquerque</td>\n",
              "      <td>Kohl's</td>\n",
              "      <td>17065965.0</td>\n",
              "      <td>5783668.15</td>\n",
              "      <td>0.338901</td>\n",
              "    </tr>\n",
              "    <tr>\n",
              "      <th>3</th>\n",
              "      <td>Albuquerque</td>\n",
              "      <td>Sports Direct</td>\n",
              "      <td>2799051.0</td>\n",
              "      <td>954392.26</td>\n",
              "      <td>0.340970</td>\n",
              "    </tr>\n",
              "    <tr>\n",
              "      <th>4</th>\n",
              "      <td>Anchorage</td>\n",
              "      <td>Amazon</td>\n",
              "      <td>13365025.0</td>\n",
              "      <td>4143804.75</td>\n",
              "      <td>0.310048</td>\n",
              "    </tr>\n",
              "    <tr>\n",
              "      <th>...</th>\n",
              "      <td>...</td>\n",
              "      <td>...</td>\n",
              "      <td>...</td>\n",
              "      <td>...</td>\n",
              "      <td>...</td>\n",
              "    </tr>\n",
              "    <tr>\n",
              "      <th>103</th>\n",
              "      <td>St. Louis</td>\n",
              "      <td>West Gear</td>\n",
              "      <td>1701133.0</td>\n",
              "      <td>681457.25</td>\n",
              "      <td>0.400590</td>\n",
              "    </tr>\n",
              "    <tr>\n",
              "      <th>105</th>\n",
              "      <td>Wichita</td>\n",
              "      <td>Kohl's</td>\n",
              "      <td>6451914.0</td>\n",
              "      <td>2279774.62</td>\n",
              "      <td>0.353349</td>\n",
              "    </tr>\n",
              "    <tr>\n",
              "      <th>104</th>\n",
              "      <td>Wichita</td>\n",
              "      <td>Foot Locker</td>\n",
              "      <td>3520950.0</td>\n",
              "      <td>1230372.67</td>\n",
              "      <td>0.349443</td>\n",
              "    </tr>\n",
              "    <tr>\n",
              "      <th>106</th>\n",
              "      <td>Wilmington</td>\n",
              "      <td>Foot Locker</td>\n",
              "      <td>8387568.0</td>\n",
              "      <td>3077352.68</td>\n",
              "      <td>0.366895</td>\n",
              "    </tr>\n",
              "    <tr>\n",
              "      <th>107</th>\n",
              "      <td>Wilmington</td>\n",
              "      <td>Kohl's</td>\n",
              "      <td>3910844.0</td>\n",
              "      <td>1446997.38</td>\n",
              "      <td>0.369996</td>\n",
              "    </tr>\n",
              "  </tbody>\n",
              "</table>\n",
              "<p>108 rows × 5 columns</p>\n",
              "</div>"
            ],
            "text/plain": [
              "            City       Retailer  Total Sales  Operating Profit  Profit Margin\n",
              "1         Albany      West Gear   20735165.0        8062399.80       0.388827\n",
              "0         Albany         Kohl's    3692639.0        1367451.11       0.370318\n",
              "2    Albuquerque         Kohl's   17065965.0        5783668.15       0.338901\n",
              "3    Albuquerque  Sports Direct    2799051.0         954392.26       0.340970\n",
              "4      Anchorage         Amazon   13365025.0        4143804.75       0.310048\n",
              "..           ...            ...          ...               ...            ...\n",
              "103    St. Louis      West Gear    1701133.0         681457.25       0.400590\n",
              "105      Wichita         Kohl's    6451914.0        2279774.62       0.353349\n",
              "104      Wichita    Foot Locker    3520950.0        1230372.67       0.349443\n",
              "106   Wilmington    Foot Locker    8387568.0        3077352.68       0.366895\n",
              "107   Wilmington         Kohl's    3910844.0        1446997.38       0.369996\n",
              "\n",
              "[108 rows x 5 columns]"
            ]
          },
          "execution_count": 130,
          "metadata": {},
          "output_type": "execute_result"
        }
      ],
      "source": [
        "# Convert the dictionary to a DataFrame, if not already done\n",
        "df = pd.DataFrame(data)\n",
        "\n",
        "# Grouping Data by both City and Store Name\n",
        "grouped_data = df.groupby(['City', 'Retailer']).agg({\n",
        "    'Total Sales': 'sum',\n",
        "    'Operating Profit': 'sum'\n",
        "}).reset_index()\n",
        "\n",
        "# Calculating Performance Metrics\n",
        "grouped_data['Profit Margin'] = grouped_data['Operating Profit'] / grouped_data['Total Sales']\n",
        "\n",
        "# Sorting by Total Sales and Profit Margin\n",
        "grouped_data = grouped_data.sort_values(by=['City', 'Total Sales', 'Profit Margin'], ascending=[True, False, False])\n",
        "\n",
        "# Displaying the grouped data\n",
        "print(\"Store Performance by City:\")\n",
        "grouped_data"
      ]
    },
    {
      "cell_type": "markdown",
      "metadata": {
        "id": "mNKsGqwVVrPg"
      },
      "source": [
        "**Summary**\n",
        "\n",
        "The data has been aggregated to show the performance of different retail stores in various cities.\n",
        "The key metrics considered are Total Sales, Operating Profit, and Profit Margin.\n",
        "Stores are grouped by city and retailer, providing a clear view of each store's performance in its respective location.\n",
        "\n",
        "Insights\n",
        "\n",
        "**Top Performers:**\n",
        "\n",
        "In Albany, 'West Gear' emerges as the top performer with a total sales of approximately $20.7 million and a profit margin of about 38.9%. This is significantly higher than 'Kohl's' in the same city, which has a total sales of around $3.7 million with a profit margin of 37%.\n",
        "In Albuquerque, 'Kohl's' leads with a total sales of $17.1 million and a profit margin of approximately 33.9%.\n",
        "\n",
        "**Comparative Store Performances:**\n",
        "\n",
        "In cities with multiple listed retailers, such as Albuquerque and Wichita, there is a noticeable difference in both sales and profit margins between stores. For example, in Albuquerque, 'Kohl's' not only has higher total sales but also a slightly lower profit margin compared to 'Sports Direct'.\n",
        "\n",
        "**Profit Margins Analysis:**\n",
        "\n",
        "Profit margins vary across cities and stores. While 'West Gear' in St. Louis has a high profit margin of 40.1%, other stores like 'Amazon' in Anchorage show lower profit margins (31%).\n",
        "\n",
        "**Sales vs. Profit Margins:**\n",
        "\n",
        "There is not always a direct correlation between high sales and high profit margins. For instance, 'Kohl's' in Wichita has higher sales than 'Foot Locker' in the same city, yet their profit margins are fairly close (35.3% for Kohl's vs. 34.9% for Foot Locker).\n",
        "\n",
        "**Regional Variations:**\n",
        "\n",
        "The data indicates potential regional variations in store performance. Stores in different cities under the same brand (like 'Kohl's' in Albany vs. Albuquerque) show different levels of sales and profit margins, suggesting that location is a significant factor in retail performance.\n",
        "\n",
        "**Conclusion**\n",
        "\n",
        "This analysis provides valuable insights into the performance of retail stores across different cities, highlighting the importance of location in sales and profitability. The data can be used to identify strong and weak performing areas, optimize operations, and strategize for market expansion or improvement."
      ]
    },
    {
      "cell_type": "markdown",
      "metadata": {
        "id": "RAAnwdbqVrPg"
      },
      "source": [
        "## 8. Time Series Analysis: Investigate whether there has been a consistent sales trend over time or any noticeable monthly trends."
      ]
    },
    {
      "cell_type": "code",
      "execution_count": null,
      "metadata": {
        "id": "AGVejiuyVrPg",
        "outputId": "00f9ff12-2722-4a6a-e1e1-17eeb1cd28cc"
      },
      "outputs": [
        {
          "data": {
            "image/png": "[encoded data removed]",
            "text/plain": [
              "<Figure size 1200x700 with 1 Axes>"
            ]
          },
          "metadata": {},
          "output_type": "display_data"
        }
      ],
      "source": [
        "# Group by month and calculate total sales for each month\n",
        "monthly_sales = data.groupby(data['Invoice Date'].dt.to_period('M'))['Total Sales'].sum()\n",
        "\n",
        "# Convert the index (which is of type 'Period') to DateTime objects\n",
        "monthly_sales.index = monthly_sales.index.to_timestamp()\n",
        "\n",
        "# Setting the style for a more aesthetic plot\n",
        "sns.set(style=\"whitegrid\")\n",
        "\n",
        "# Plotting the sales trends over time\n",
        "plt.figure(figsize=(12, 7))\n",
        "plt.plot(monthly_sales.index, monthly_sales.values, marker='o', color='teal', linestyle='-', linewidth=2)\n",
        "plt.xlabel('Month', fontsize=12)\n",
        "plt.ylabel('Total Sales', fontsize=12)\n",
        "plt.title('Monthly Sales Trends', fontsize=14)\n",
        "plt.xticks(rotation=0)\n",
        "plt.tick_params(axis='both', which='major', labelsize=10)\n",
        "plt.tight_layout()\n",
        "plt.show()"
      ]
    },
    {
      "cell_type": "code",
      "execution_count": null,
      "metadata": {
        "id": "X-b12MrvVrPh",
        "outputId": "53127972-0572-467b-e8a2-5e1508f021dd"
      },
      "outputs": [
        {
          "name": "stdout",
          "output_type": "stream",
          "text": [
            "These sales follow a seasonality.\n",
            "There is no consistent trend in sales.\n"
          ]
        }
      ],
      "source": [
        "# Calculate the difference between consecutive months for trend analysis\n",
        "diff = monthly_sales.diff()\n",
        "\n",
        "# Define the threshold for significant change (seasonality)\n",
        "seasonality_threshold = 10000\n",
        "\n",
        "# Check for seasonality\n",
        "if (diff.abs() > seasonality_threshold).any():\n",
        "    print(\"These sales follow a seasonality.\")\n",
        "else:\n",
        "    print(\"These sales do not follow a seasonality.\")\n",
        "\n",
        "# Check for trend\n",
        "if (diff > 0).all():\n",
        "    print(\"There is an increasing trend in sales.\")\n",
        "elif (diff < 0).all():\n",
        "    print(\"There is a decreasing trend in sales.\")\n",
        "else:\n",
        "    print(\"There is no consistent trend in sales.\")\n"
      ]
    },
    {
      "cell_type": "markdown",
      "metadata": {
        "id": "tQQgNgWJVrPh"
      },
      "source": [
        "#### Summary:\n",
        "\n",
        "Monthly sales data from January 2020 to January 2022 exhibit significant variability with notable peaks around April 2021 and consistent increases in December and April of each year, potentially correlating with holiday seasons and sales promotions. The data show a general upward trend in sales over the two-year period, despite some notable dips, particularly in July 2020 and October 2021.\n",
        "\n",
        "#### Insights:\n",
        "\n",
        "The observed seasonal patterns, with sales spikes and dips, highlight the importance of understanding customer purchasing behavior and the impact of seasonality on sales. By leveraging these insights, businesses can align their marketing efforts, inventory management, and resource allocation with anticipated periods of high demand, ensuring that opportunities are maximized during peak seasons. This strategic approach can lead to better preparation for demand surges, improved customer satisfaction, and overall enhanced business performance.\n",
        "\n",
        "\n",
        "\n",
        "\n",
        "\n",
        "\n"
      ]
    },
    {
      "cell_type": "markdown",
      "metadata": {
        "id": "ZgOP6XdFVrPh"
      },
      "source": [
        "# 9. Predictive Sales Analysis: Develop a forecast for monthly sales."
      ]
    },
    {
      "cell_type": "code",
      "execution_count": null,
      "metadata": {
        "id": "2xKpJigyVrPh",
        "outputId": "d46afca4-fc3a-47d9-fa4f-bdbf73afb47c"
      },
      "outputs": [
        {
          "data": {
            "image/png": "[encoded data removed]",
            "text/plain": [
              "<Figure size 1200x600 with 1 Axes>"
            ]
          },
          "metadata": {},
          "output_type": "display_data"
        }
      ],
      "source": [
        "# Fit the ARIMA model to the data\n",
        "model = ARIMA(monthly_sales, order=(2,1,2))  # Order: (p, d, q)\n",
        "model_fit = model.fit()\n",
        "\n",
        "# Make predictions for the next 12 months\n",
        "forecast_steps = 12\n",
        "forecast = model_fit.forecast(steps=forecast_steps)\n",
        "\n",
        "#Visualize the actual sales data and the forecasted values for the next months.\n",
        "plt.figure(figsize=(12, 6))\n",
        "plt.plot(monthly_sales.index, monthly_sales.values, marker='o', label='Actual Sales')\n",
        "plt.plot(pd.date_range(start=monthly_sales.index[-1], periods=forecast_steps+1, freq='M')[1:], forecast, marker='o', label='Forecasted Sales')\n",
        "plt.xlabel('Date')\n",
        "plt.ylabel('Total Sales')\n",
        "plt.title('Monthly Sales Forecast')\n",
        "plt.legend()\n",
        "plt.xticks(rotation=0)\n",
        "plt.grid(True)\n",
        "plt.show()"
      ]
    },
    {
      "cell_type": "code",
      "execution_count": null,
      "metadata": {
        "id": "WFK6eengVrPh"
      },
      "outputs": [],
      "source": []
    },
    {
      "cell_type": "code",
      "execution_count": null,
      "metadata": {
        "id": "9h1AAU1fVrPh"
      },
      "outputs": [],
      "source": []
    }
  ],
  "metadata": {
    "kernelspec": {
      "display_name": "Python 3",
      "language": "python",
      "name": "python3"
    },
    "language_info": {
      "codemirror_mode": {
        "name": "ipython",
        "version": 3
      },
      "file_extension": ".py",
      "mimetype": "text/x-python",
      "name": "python",
      "nbconvert_exporter": "python",
      "pygments_lexer": "ipython3",
      "version": "3.10.8"
    },
    "colab": {
      "provenance": []
    }
  },
  "nbformat": 4,
  "nbformat_minor": 0
}